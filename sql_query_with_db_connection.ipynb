{
 "cells": [
  {
   "cell_type": "markdown",
   "id": "02fca2cc",
   "metadata": {},
   "source": [
    "# SQL query to clickhouse database"
   ]
  },
  {
   "cell_type": "markdown",
   "id": "deeddabc",
   "metadata": {},
   "source": [
    "**Задание:**  \n",
    "В базе данных вашей компании присутствуют следующие таблицы  \n",
    "- city\n",
    "    - city_id – id города, где проходит акция\n",
    "    - client_city_id – id города, где находится покупатель\n",
    "    - city – город\n",
    "    - client_city – город, где находится покупатель\n",
    "- client\n",
    "    - client_id – id покупателя\n",
    "    - client_city_id – id города, где находится покупатель\n",
    "    - birth_date – дата рождения покупателя\n",
    "    - registration – дата регистрации покупателя\n",
    "- promotion\n",
    "    - promotion_id – id акции\n",
    "    - category_id – id категории\n",
    "    - promotion_name – акция\n",
    "    - category_name – категория\n",
    "    - partner_id – id партнёра\n",
    "    - partner_name – партнёр\n",
    "- purchase\n",
    "    - purchase_id – id покупки\n",
    "    - partner_id – id партнёра\n",
    "    - client_id – id покупателя\n",
    "    - city_id – id города\n",
    "    - promotion_id – id акции\n",
    "    - category_id – id категории\n",
    "    - purchase_date – дата покупки\n",
    "    - price – цена за единицу товара\n",
    "    - quantity – число проданных единиц\n",
    "    - status – статус покупки  \n",
    "\n",
    "Написать запрос, чтобы получить такую таблицу:  \n",
    "- purchase_date – дата покупки\n",
    "- purchase_id – id покупки\n",
    "- client_id – id покупателя\n",
    "- client_age – возраст покупателя\n",
    "- client_registration_age – как долго человек пользуется вашими магазинами\n",
    "- client_category – содержит new или old, если это первая или последующая покупка соответственно\n",
    "- promotion_name – акция\n",
    "- category_name – категория\n",
    "- partner_name – партнёр\n",
    "- client_city – город, где находится покупатель\n",
    "- city – город\n",
    "- revenue – сумма выручки\n",
    "- quantity – число проданных единиц  \n",
    "\n",
    "При этом в таблице должны присутствовать только значения, где в поле status стоит значение 1, и только те, где purchase_date находится в диапазоне от 01.05.2020 до 01.08.2020.  \n",
    "База данных доступна по имени project_variant_2"
   ]
  },
  {
   "cell_type": "code",
   "execution_count": 1,
   "id": "0a78f478",
   "metadata": {},
   "outputs": [],
   "source": [
    "import pandas as pd\n",
    "import pandahouse as ph"
   ]
  },
  {
   "cell_type": "markdown",
   "id": "954748f1",
   "metadata": {},
   "source": [
    "Задаём параметры подключения к базе данных"
   ]
  },
  {
   "cell_type": "code",
   "execution_count": 2,
   "id": "384be00d",
   "metadata": {},
   "outputs": [],
   "source": [
    "connection = dict(database='default',\n",
    "                  host='https://clickhouse.lab.karpov.courses',\n",
    "                  user='student',\n",
    "                  password='dpo_python_2020')"
   ]
  },
  {
   "cell_type": "markdown",
   "id": "53cf70d5",
   "metadata": {},
   "source": [
    "Создаём датафрейм итоговой таблицы по SQL запросу"
   ]
  },
  {
   "cell_type": "code",
   "execution_count": 3,
   "id": "6adeae21",
   "metadata": {},
   "outputs": [],
   "source": [
    "query = \"\"\"\n",
    "SELECT\n",
    "    purch.purchase_date AS purchase_date,\n",
    "    purch.purchase_id AS purchase_id,\n",
    "    purch.client_id AS client_id,\n",
    "    dateDiff(YEAR, cl.birth_date, now()) - IF(DayOfYear(cl.birth_date) <= DayOfYear(now()), 0, 1)\n",
    "        AS client_age,\n",
    "    dateDiff(YEAR, cl.registration, now()) - IF(DayOfYear(cl.registration) <= DayOfYear(now()), 0, 1)\n",
    "        AS client_registration_age,\n",
    "    if(purch.purchase_id = cl_cat.min_purchase_id, 'new', 'old') AS client_category,\n",
    "    prom.promotion_name AS promotion_name,\n",
    "    prom.category_name AS category_name,\n",
    "    prom.partner_name AS partner_name,\n",
    "    cl_city.client_city AS client_city,\n",
    "    prom_city.city AS city,\n",
    "    CAST(purch.price AS Float32) * CAST(purch.quantity AS Float32) AS revenue,\n",
    "    CAST(purch.quantity AS Float32) AS quantity\n",
    "FROM project_variant_2.purchase AS purch\n",
    "\n",
    "JOIN project_variant_2.client AS cl\n",
    "        ON purch.client_id = cl.client_id\n",
    " \n",
    "JOIN\n",
    "    (\n",
    "    SELECT\n",
    "        MIN(l.purchase_id) AS min_purchase_id,\n",
    "        l.client_id AS client_id\n",
    "    FROM project_variant_2.purchase AS l\n",
    "    JOIN\n",
    "        (\n",
    "        SELECT \n",
    "            MIN(purchase_date) AS min_date,\n",
    "            client_id\n",
    "        FROM project_variant_2.purchase\n",
    "        GROUP BY client_id\n",
    "        ) AS r\n",
    "            ON l.client_id = r.client_id\n",
    "    WHERE l.purchase_date = r.min_date\n",
    "    GROUP BY l.client_id\n",
    "    ) AS cl_cat\n",
    "        ON purch.client_id = cl_cat.client_id       \n",
    "\n",
    "LEFT JOIN project_variant_2.promotion AS prom\n",
    "        ON      purch.promotion_id = prom.promotion_id\n",
    "            AND purch.category_id = prom.category_id\n",
    "            AND purch.partner_id = prom.partner_id\n",
    "\n",
    "JOIN\n",
    "    (\n",
    "    SELECT *\n",
    "    FROM project_variant_2.client AS l\n",
    "    ANY LEFT JOIN project_variant_2.city AS r\n",
    "        ON l.client_city_id = r.client_city_id\n",
    "    ) AS cl_city\n",
    "        ON purch.client_id = cl_city.client_id\n",
    "\n",
    "LEFT ANY JOIN \n",
    "    (\n",
    "    SELECT *\n",
    "    FROM project_variant_2.city) AS prom_city\n",
    "        ON purch.city_id = prom_city.city_id\n",
    "\n",
    "WHERE \n",
    "        purch.status = 1\n",
    "    AND purch.purchase_date >= '2020-05-01'\n",
    "    AND purch.purchase_date < '2020-08-01'\n",
    "    \n",
    "ORDER BY purchase_date\n",
    "\"\"\"\n",
    "df = ph.read_clickhouse(query, connection=connection)"
   ]
  },
  {
   "cell_type": "code",
   "execution_count": 4,
   "id": "cf33cd48",
   "metadata": {},
   "outputs": [
    {
     "data": {
      "text/plain": [
       "(2695, 13)"
      ]
     },
     "execution_count": 4,
     "metadata": {},
     "output_type": "execute_result"
    }
   ],
   "source": [
    "df.shape"
   ]
  },
  {
   "cell_type": "code",
   "execution_count": 5,
   "id": "38af8c40",
   "metadata": {},
   "outputs": [
    {
     "data": {
      "text/html": [
       "<div>\n",
       "<style scoped>\n",
       "    .dataframe tbody tr th:only-of-type {\n",
       "        vertical-align: middle;\n",
       "    }\n",
       "\n",
       "    .dataframe tbody tr th {\n",
       "        vertical-align: top;\n",
       "    }\n",
       "\n",
       "    .dataframe thead th {\n",
       "        text-align: right;\n",
       "    }\n",
       "</style>\n",
       "<table border=\"1\" class=\"dataframe\">\n",
       "  <thead>\n",
       "    <tr style=\"text-align: right;\">\n",
       "      <th></th>\n",
       "      <th>purchase_date</th>\n",
       "      <th>purchase_id</th>\n",
       "      <th>client_id</th>\n",
       "      <th>client_age</th>\n",
       "      <th>client_registration_age</th>\n",
       "      <th>client_category</th>\n",
       "      <th>promotion_name</th>\n",
       "      <th>category_name</th>\n",
       "      <th>partner_name</th>\n",
       "      <th>client_city</th>\n",
       "      <th>city</th>\n",
       "      <th>revenue</th>\n",
       "      <th>quantity</th>\n",
       "    </tr>\n",
       "  </thead>\n",
       "  <tbody>\n",
       "    <tr>\n",
       "      <th>0</th>\n",
       "      <td>2020-05-01</td>\n",
       "      <td>470</td>\n",
       "      <td>918</td>\n",
       "      <td>23</td>\n",
       "      <td>1</td>\n",
       "      <td>old</td>\n",
       "      <td></td>\n",
       "      <td></td>\n",
       "      <td></td>\n",
       "      <td>Щучинщина</td>\n",
       "      <td>Ярославль</td>\n",
       "      <td>660.0</td>\n",
       "      <td>4.0</td>\n",
       "    </tr>\n",
       "    <tr>\n",
       "      <th>1</th>\n",
       "      <td>2020-05-01</td>\n",
       "      <td>1210</td>\n",
       "      <td>126</td>\n",
       "      <td>29</td>\n",
       "      <td>2</td>\n",
       "      <td>old</td>\n",
       "      <td>campaign_3</td>\n",
       "      <td>Овощи</td>\n",
       "      <td>Всем партнёрам партнёр</td>\n",
       "      <td>Щучинщина</td>\n",
       "      <td>Ярославль</td>\n",
       "      <td>225.0</td>\n",
       "      <td>1.0</td>\n",
       "    </tr>\n",
       "    <tr>\n",
       "      <th>2</th>\n",
       "      <td>2020-05-01</td>\n",
       "      <td>1675</td>\n",
       "      <td>694</td>\n",
       "      <td>20</td>\n",
       "      <td>1</td>\n",
       "      <td>old</td>\n",
       "      <td></td>\n",
       "      <td></td>\n",
       "      <td></td>\n",
       "      <td>Вена</td>\n",
       "      <td>Казань</td>\n",
       "      <td>520.0</td>\n",
       "      <td>8.0</td>\n",
       "    </tr>\n",
       "    <tr>\n",
       "      <th>3</th>\n",
       "      <td>2020-05-01</td>\n",
       "      <td>1703</td>\n",
       "      <td>630</td>\n",
       "      <td>30</td>\n",
       "      <td>2</td>\n",
       "      <td>old</td>\n",
       "      <td></td>\n",
       "      <td></td>\n",
       "      <td></td>\n",
       "      <td>Ярославль</td>\n",
       "      <td>Москва</td>\n",
       "      <td>55.0</td>\n",
       "      <td>1.0</td>\n",
       "    </tr>\n",
       "    <tr>\n",
       "      <th>4</th>\n",
       "      <td>2020-05-01</td>\n",
       "      <td>1761</td>\n",
       "      <td>841</td>\n",
       "      <td>24</td>\n",
       "      <td>1</td>\n",
       "      <td>old</td>\n",
       "      <td></td>\n",
       "      <td></td>\n",
       "      <td></td>\n",
       "      <td>Ярославль</td>\n",
       "      <td>Минск</td>\n",
       "      <td>225.0</td>\n",
       "      <td>1.0</td>\n",
       "    </tr>\n",
       "  </tbody>\n",
       "</table>\n",
       "</div>"
      ],
      "text/plain": [
       "  purchase_date  purchase_id  client_id  client_age  client_registration_age  \\\n",
       "0    2020-05-01          470        918          23                        1   \n",
       "1    2020-05-01         1210        126          29                        2   \n",
       "2    2020-05-01         1675        694          20                        1   \n",
       "3    2020-05-01         1703        630          30                        2   \n",
       "4    2020-05-01         1761        841          24                        1   \n",
       "\n",
       "  client_category promotion_name category_name            partner_name  \\\n",
       "0             old                                                        \n",
       "1             old     campaign_3         Овощи  Всем партнёрам партнёр   \n",
       "2             old                                                        \n",
       "3             old                                                        \n",
       "4             old                                                        \n",
       "\n",
       "  client_city       city  revenue  quantity  \n",
       "0   Щучинщина  Ярославль    660.0       4.0  \n",
       "1   Щучинщина  Ярославль    225.0       1.0  \n",
       "2        Вена     Казань    520.0       8.0  \n",
       "3   Ярославль     Москва     55.0       1.0  \n",
       "4   Ярославль      Минск    225.0       1.0  "
      ]
     },
     "execution_count": 5,
     "metadata": {},
     "output_type": "execute_result"
    }
   ],
   "source": [
    "df.head()"
   ]
  },
  {
   "cell_type": "code",
   "execution_count": 6,
   "id": "4f0cedc7",
   "metadata": {},
   "outputs": [
    {
     "data": {
      "text/plain": [
       "purchase_date              datetime64[ns]\n",
       "purchase_id                         int32\n",
       "client_id                           int32\n",
       "client_age                          int64\n",
       "client_registration_age             int64\n",
       "client_category                    object\n",
       "promotion_name                     object\n",
       "category_name                      object\n",
       "partner_name                       object\n",
       "client_city                        object\n",
       "city                               object\n",
       "revenue                           float64\n",
       "quantity                          float32\n",
       "dtype: object"
      ]
     },
     "execution_count": 6,
     "metadata": {},
     "output_type": "execute_result"
    }
   ],
   "source": [
    "df.dtypes"
   ]
  },
  {
   "cell_type": "markdown",
   "id": "9c9b860b",
   "metadata": {},
   "source": [
    "Записываем итоговую таблицу в файл csv"
   ]
  },
  {
   "cell_type": "code",
   "execution_count": 7,
   "id": "fcc0f29f",
   "metadata": {},
   "outputs": [],
   "source": [
    "df.to_csv('final_table.csv', index=False)"
   ]
  },
  {
   "cell_type": "code",
   "execution_count": null,
   "id": "b03775ae",
   "metadata": {},
   "outputs": [],
   "source": []
  }
 ],
 "metadata": {
  "kernelspec": {
   "display_name": "Python 3",
   "language": "python",
   "name": "python3"
  },
  "language_info": {
   "codemirror_mode": {
    "name": "ipython",
    "version": 3
   },
   "file_extension": ".py",
   "mimetype": "text/x-python",
   "name": "python",
   "nbconvert_exporter": "python",
   "pygments_lexer": "ipython3",
   "version": "3.8.8"
  }
 },
 "nbformat": 4,
 "nbformat_minor": 5
}
