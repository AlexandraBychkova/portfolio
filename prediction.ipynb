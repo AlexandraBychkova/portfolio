{
 "cells": [
  {
   "cell_type": "markdown",
   "id": "3f275eaf",
   "metadata": {},
   "source": [
    "# Прогнозирование"
   ]
  },
  {
   "cell_type": "markdown",
   "id": "dad14f08",
   "metadata": {},
   "source": [
    "**Задание:** Имеется информация о числе заказов за прошедшие 3 месяца с разрешением по неделям.  \n",
    "Построить (если это возможно) прогноз продаж на следующие 3 месяца, с учётом того, что в неделю с 2020-02-02 по 2020-02-09 была проведена массивная акция, повысившая число заказов на 7%."
   ]
  },
  {
   "cell_type": "code",
   "execution_count": 1,
   "id": "154f7022",
   "metadata": {},
   "outputs": [],
   "source": [
    "import pandas as pd\n",
    "import seaborn as sns\n",
    "import matplotlib.pyplot as plt\n",
    "import scipy.stats as st\n",
    "import statsmodels.api as sm\n",
    "import statsmodels.formula.api as smf \n",
    "import numpy as np"
   ]
  },
  {
   "cell_type": "code",
   "execution_count": 2,
   "id": "4007ad78",
   "metadata": {},
   "outputs": [],
   "source": [
    "sns.set(\n",
    "        style=\"whitegrid\",\n",
    "        rc={'figure.figsize':(12,6)}\n",
    "       )"
   ]
  },
  {
   "cell_type": "markdown",
   "id": "1663f30c",
   "metadata": {},
   "source": [
    "Загрузка и предобработка данных"
   ]
  },
  {
   "cell_type": "code",
   "execution_count": 3,
   "id": "122795c1",
   "metadata": {},
   "outputs": [],
   "source": [
    "df = pd.read_csv('https://stepik.org/media/attachments/lesson/426638/test2_completed.csv')"
   ]
  },
  {
   "cell_type": "code",
   "execution_count": 4,
   "id": "1cfc0ac1",
   "metadata": {},
   "outputs": [],
   "source": [
    "df.rename(columns={'Дата': 'date', 'Число заказов': 'orders_number'}, inplace=True)"
   ]
  },
  {
   "cell_type": "code",
   "execution_count": 5,
   "id": "79a94d48",
   "metadata": {},
   "outputs": [],
   "source": [
    "df.date = pd.to_datetime(df.date)"
   ]
  },
  {
   "cell_type": "code",
   "execution_count": 6,
   "id": "056fc6ca",
   "metadata": {},
   "outputs": [
    {
     "data": {
      "text/plain": [
       "date             datetime64[ns]\n",
       "orders_number             int64\n",
       "dtype: object"
      ]
     },
     "execution_count": 6,
     "metadata": {},
     "output_type": "execute_result"
    }
   ],
   "source": [
    "df.dtypes"
   ]
  },
  {
   "cell_type": "code",
   "execution_count": 7,
   "id": "e99bf805",
   "metadata": {},
   "outputs": [
    {
     "data": {
      "text/html": [
       "<div>\n",
       "<style scoped>\n",
       "    .dataframe tbody tr th:only-of-type {\n",
       "        vertical-align: middle;\n",
       "    }\n",
       "\n",
       "    .dataframe tbody tr th {\n",
       "        vertical-align: top;\n",
       "    }\n",
       "\n",
       "    .dataframe thead th {\n",
       "        text-align: right;\n",
       "    }\n",
       "</style>\n",
       "<table border=\"1\" class=\"dataframe\">\n",
       "  <thead>\n",
       "    <tr style=\"text-align: right;\">\n",
       "      <th></th>\n",
       "      <th>date</th>\n",
       "      <th>orders_number</th>\n",
       "    </tr>\n",
       "  </thead>\n",
       "  <tbody>\n",
       "    <tr>\n",
       "      <th>0</th>\n",
       "      <td>2020-01-05</td>\n",
       "      <td>650</td>\n",
       "    </tr>\n",
       "    <tr>\n",
       "      <th>1</th>\n",
       "      <td>2020-01-12</td>\n",
       "      <td>837</td>\n",
       "    </tr>\n",
       "    <tr>\n",
       "      <th>2</th>\n",
       "      <td>2020-01-19</td>\n",
       "      <td>1020</td>\n",
       "    </tr>\n",
       "    <tr>\n",
       "      <th>3</th>\n",
       "      <td>2020-01-26</td>\n",
       "      <td>1176</td>\n",
       "    </tr>\n",
       "    <tr>\n",
       "      <th>4</th>\n",
       "      <td>2020-02-02</td>\n",
       "      <td>1489</td>\n",
       "    </tr>\n",
       "    <tr>\n",
       "      <th>5</th>\n",
       "      <td>2020-02-09</td>\n",
       "      <td>1823</td>\n",
       "    </tr>\n",
       "    <tr>\n",
       "      <th>6</th>\n",
       "      <td>2020-02-16</td>\n",
       "      <td>1991</td>\n",
       "    </tr>\n",
       "    <tr>\n",
       "      <th>7</th>\n",
       "      <td>2020-02-23</td>\n",
       "      <td>2166</td>\n",
       "    </tr>\n",
       "    <tr>\n",
       "      <th>8</th>\n",
       "      <td>2020-03-01</td>\n",
       "      <td>2334</td>\n",
       "    </tr>\n",
       "    <tr>\n",
       "      <th>9</th>\n",
       "      <td>2020-03-08</td>\n",
       "      <td>2607</td>\n",
       "    </tr>\n",
       "    <tr>\n",
       "      <th>10</th>\n",
       "      <td>2020-03-15</td>\n",
       "      <td>2734</td>\n",
       "    </tr>\n",
       "    <tr>\n",
       "      <th>11</th>\n",
       "      <td>2020-03-22</td>\n",
       "      <td>3492</td>\n",
       "    </tr>\n",
       "    <tr>\n",
       "      <th>12</th>\n",
       "      <td>2020-03-29</td>\n",
       "      <td>3608</td>\n",
       "    </tr>\n",
       "    <tr>\n",
       "      <th>13</th>\n",
       "      <td>2020-04-05</td>\n",
       "      <td>3857</td>\n",
       "    </tr>\n",
       "  </tbody>\n",
       "</table>\n",
       "</div>"
      ],
      "text/plain": [
       "         date  orders_number\n",
       "0  2020-01-05            650\n",
       "1  2020-01-12            837\n",
       "2  2020-01-19           1020\n",
       "3  2020-01-26           1176\n",
       "4  2020-02-02           1489\n",
       "5  2020-02-09           1823\n",
       "6  2020-02-16           1991\n",
       "7  2020-02-23           2166\n",
       "8  2020-03-01           2334\n",
       "9  2020-03-08           2607\n",
       "10 2020-03-15           2734\n",
       "11 2020-03-22           3492\n",
       "12 2020-03-29           3608\n",
       "13 2020-04-05           3857"
      ]
     },
     "execution_count": 7,
     "metadata": {},
     "output_type": "execute_result"
    }
   ],
   "source": [
    "df"
   ]
  },
  {
   "cell_type": "markdown",
   "id": "24b83a3e",
   "metadata": {},
   "source": [
    "Вносим поправку в данные о заказах с учётом того, что в неделю с 2020-02-02 по 2020-02-09 была проведена массивная акция, повысившая число заказов на 7%"
   ]
  },
  {
   "cell_type": "code",
   "execution_count": 8,
   "id": "7c16227d",
   "metadata": {},
   "outputs": [
    {
     "data": {
      "text/html": [
       "<div>\n",
       "<style scoped>\n",
       "    .dataframe tbody tr th:only-of-type {\n",
       "        vertical-align: middle;\n",
       "    }\n",
       "\n",
       "    .dataframe tbody tr th {\n",
       "        vertical-align: top;\n",
       "    }\n",
       "\n",
       "    .dataframe thead th {\n",
       "        text-align: right;\n",
       "    }\n",
       "</style>\n",
       "<table border=\"1\" class=\"dataframe\">\n",
       "  <thead>\n",
       "    <tr style=\"text-align: right;\">\n",
       "      <th></th>\n",
       "      <th>date</th>\n",
       "      <th>orders_number</th>\n",
       "    </tr>\n",
       "  </thead>\n",
       "  <tbody>\n",
       "    <tr>\n",
       "      <th>0</th>\n",
       "      <td>2020-01-05</td>\n",
       "      <td>650</td>\n",
       "    </tr>\n",
       "    <tr>\n",
       "      <th>1</th>\n",
       "      <td>2020-01-12</td>\n",
       "      <td>837</td>\n",
       "    </tr>\n",
       "    <tr>\n",
       "      <th>2</th>\n",
       "      <td>2020-01-19</td>\n",
       "      <td>1020</td>\n",
       "    </tr>\n",
       "    <tr>\n",
       "      <th>3</th>\n",
       "      <td>2020-01-26</td>\n",
       "      <td>1176</td>\n",
       "    </tr>\n",
       "    <tr>\n",
       "      <th>4</th>\n",
       "      <td>2020-02-02</td>\n",
       "      <td>1392</td>\n",
       "    </tr>\n",
       "    <tr>\n",
       "      <th>5</th>\n",
       "      <td>2020-02-09</td>\n",
       "      <td>1823</td>\n",
       "    </tr>\n",
       "    <tr>\n",
       "      <th>6</th>\n",
       "      <td>2020-02-16</td>\n",
       "      <td>1991</td>\n",
       "    </tr>\n",
       "    <tr>\n",
       "      <th>7</th>\n",
       "      <td>2020-02-23</td>\n",
       "      <td>2166</td>\n",
       "    </tr>\n",
       "    <tr>\n",
       "      <th>8</th>\n",
       "      <td>2020-03-01</td>\n",
       "      <td>2334</td>\n",
       "    </tr>\n",
       "    <tr>\n",
       "      <th>9</th>\n",
       "      <td>2020-03-08</td>\n",
       "      <td>2607</td>\n",
       "    </tr>\n",
       "    <tr>\n",
       "      <th>10</th>\n",
       "      <td>2020-03-15</td>\n",
       "      <td>2734</td>\n",
       "    </tr>\n",
       "    <tr>\n",
       "      <th>11</th>\n",
       "      <td>2020-03-22</td>\n",
       "      <td>3492</td>\n",
       "    </tr>\n",
       "    <tr>\n",
       "      <th>12</th>\n",
       "      <td>2020-03-29</td>\n",
       "      <td>3608</td>\n",
       "    </tr>\n",
       "    <tr>\n",
       "      <th>13</th>\n",
       "      <td>2020-04-05</td>\n",
       "      <td>3857</td>\n",
       "    </tr>\n",
       "  </tbody>\n",
       "</table>\n",
       "</div>"
      ],
      "text/plain": [
       "         date  orders_number\n",
       "0  2020-01-05            650\n",
       "1  2020-01-12            837\n",
       "2  2020-01-19           1020\n",
       "3  2020-01-26           1176\n",
       "4  2020-02-02           1392\n",
       "5  2020-02-09           1823\n",
       "6  2020-02-16           1991\n",
       "7  2020-02-23           2166\n",
       "8  2020-03-01           2334\n",
       "9  2020-03-08           2607\n",
       "10 2020-03-15           2734\n",
       "11 2020-03-22           3492\n",
       "12 2020-03-29           3608\n",
       "13 2020-04-05           3857"
      ]
     },
     "execution_count": 8,
     "metadata": {},
     "output_type": "execute_result"
    }
   ],
   "source": [
    "adj_orders_number = df[df['date'] == pd.to_datetime('2020-02-02')].orders_number.div(1.07).round().astype(int)\n",
    "df.loc[df['date'] == pd.to_datetime('2020-02-02'), 'orders_number'] = adj_orders_number\n",
    "df"
   ]
  },
  {
   "cell_type": "markdown",
   "id": "3cf4215d",
   "metadata": {},
   "source": [
    "Построим график количества заказов, чтобы посмотреть характер взаимосвязи данных"
   ]
  },
  {
   "cell_type": "code",
   "execution_count": 9,
   "id": "2c5898d7",
   "metadata": {},
   "outputs": [
    {
     "data": {
      "image/png": "[encoded data removed]",
      "text/plain": [
       "<Figure size 864x432 with 1 Axes>"
      ]
     },
     "metadata": {},
     "output_type": "display_data"
    }
   ],
   "source": [
    "sns.lineplot(x=df.date, y=df.orders_number);"
   ]
  },
  {
   "cell_type": "markdown",
   "id": "582e7684",
   "metadata": {},
   "source": [
    "## Линейная регрессия"
   ]
  },
  {
   "cell_type": "markdown",
   "id": "b791e04a",
   "metadata": {},
   "source": [
    "Очевидно, количество заказов возрастает линейно, а значит будем строить линейную регрессионную модель."
   ]
  },
  {
   "cell_type": "code",
   "execution_count": 10,
   "id": "7b50b141",
   "metadata": {},
   "outputs": [
    {
     "data": {
      "text/html": [
       "<div>\n",
       "<style scoped>\n",
       "    .dataframe tbody tr th:only-of-type {\n",
       "        vertical-align: middle;\n",
       "    }\n",
       "\n",
       "    .dataframe tbody tr th {\n",
       "        vertical-align: top;\n",
       "    }\n",
       "\n",
       "    .dataframe thead th {\n",
       "        text-align: right;\n",
       "    }\n",
       "</style>\n",
       "<table border=\"1\" class=\"dataframe\">\n",
       "  <thead>\n",
       "    <tr style=\"text-align: right;\">\n",
       "      <th></th>\n",
       "      <th>date</th>\n",
       "      <th>orders_number</th>\n",
       "      <th>week_number</th>\n",
       "    </tr>\n",
       "  </thead>\n",
       "  <tbody>\n",
       "    <tr>\n",
       "      <th>0</th>\n",
       "      <td>2020-01-05</td>\n",
       "      <td>650</td>\n",
       "      <td>0</td>\n",
       "    </tr>\n",
       "    <tr>\n",
       "      <th>1</th>\n",
       "      <td>2020-01-12</td>\n",
       "      <td>837</td>\n",
       "      <td>1</td>\n",
       "    </tr>\n",
       "    <tr>\n",
       "      <th>2</th>\n",
       "      <td>2020-01-19</td>\n",
       "      <td>1020</td>\n",
       "      <td>2</td>\n",
       "    </tr>\n",
       "    <tr>\n",
       "      <th>3</th>\n",
       "      <td>2020-01-26</td>\n",
       "      <td>1176</td>\n",
       "      <td>3</td>\n",
       "    </tr>\n",
       "    <tr>\n",
       "      <th>4</th>\n",
       "      <td>2020-02-02</td>\n",
       "      <td>1392</td>\n",
       "      <td>4</td>\n",
       "    </tr>\n",
       "    <tr>\n",
       "      <th>5</th>\n",
       "      <td>2020-02-09</td>\n",
       "      <td>1823</td>\n",
       "      <td>5</td>\n",
       "    </tr>\n",
       "    <tr>\n",
       "      <th>6</th>\n",
       "      <td>2020-02-16</td>\n",
       "      <td>1991</td>\n",
       "      <td>6</td>\n",
       "    </tr>\n",
       "    <tr>\n",
       "      <th>7</th>\n",
       "      <td>2020-02-23</td>\n",
       "      <td>2166</td>\n",
       "      <td>7</td>\n",
       "    </tr>\n",
       "    <tr>\n",
       "      <th>8</th>\n",
       "      <td>2020-03-01</td>\n",
       "      <td>2334</td>\n",
       "      <td>8</td>\n",
       "    </tr>\n",
       "    <tr>\n",
       "      <th>9</th>\n",
       "      <td>2020-03-08</td>\n",
       "      <td>2607</td>\n",
       "      <td>9</td>\n",
       "    </tr>\n",
       "    <tr>\n",
       "      <th>10</th>\n",
       "      <td>2020-03-15</td>\n",
       "      <td>2734</td>\n",
       "      <td>10</td>\n",
       "    </tr>\n",
       "    <tr>\n",
       "      <th>11</th>\n",
       "      <td>2020-03-22</td>\n",
       "      <td>3492</td>\n",
       "      <td>11</td>\n",
       "    </tr>\n",
       "    <tr>\n",
       "      <th>12</th>\n",
       "      <td>2020-03-29</td>\n",
       "      <td>3608</td>\n",
       "      <td>12</td>\n",
       "    </tr>\n",
       "    <tr>\n",
       "      <th>13</th>\n",
       "      <td>2020-04-05</td>\n",
       "      <td>3857</td>\n",
       "      <td>13</td>\n",
       "    </tr>\n",
       "  </tbody>\n",
       "</table>\n",
       "</div>"
      ],
      "text/plain": [
       "         date  orders_number  week_number\n",
       "0  2020-01-05            650            0\n",
       "1  2020-01-12            837            1\n",
       "2  2020-01-19           1020            2\n",
       "3  2020-01-26           1176            3\n",
       "4  2020-02-02           1392            4\n",
       "5  2020-02-09           1823            5\n",
       "6  2020-02-16           1991            6\n",
       "7  2020-02-23           2166            7\n",
       "8  2020-03-01           2334            8\n",
       "9  2020-03-08           2607            9\n",
       "10 2020-03-15           2734           10\n",
       "11 2020-03-22           3492           11\n",
       "12 2020-03-29           3608           12\n",
       "13 2020-04-05           3857           13"
      ]
     },
     "execution_count": 10,
     "metadata": {},
     "output_type": "execute_result"
    }
   ],
   "source": [
    "# добавим колонку с количеством недель для построения модели\n",
    "df['week_number'] = pd.Series(df.date).diff().dt.days.div(7).fillna(0).astype(int).cumsum()\n",
    "df"
   ]
  },
  {
   "cell_type": "code",
   "execution_count": 11,
   "id": "cc574331",
   "metadata": {},
   "outputs": [
    {
     "data": {
      "image/png": "[encoded data removed]",
      "text/plain": [
       "<Figure size 864x432 with 1 Axes>"
      ]
     },
     "metadata": {},
     "output_type": "display_data"
    }
   ],
   "source": [
    "ax = sns.regplot(x='week_number', y='orders_number', data = df)\n",
    "plt.xticks(range(0, 14))\n",
    "x_labels = [(pd.to_datetime('2020-01-05') + pd.to_timedelta(i, unit='W')).strftime('%d-%m-%Y') for i in ax.get_xticks()]\n",
    "ax.set_xticklabels(x_labels)\n",
    "plt.xticks(rotation=90)\n",
    "ax.set_xlabel('Дата')\n",
    "ax.set_ylabel('Число заказов')\n",
    "ax.set_xlim([-1, 14]);"
   ]
  },
  {
   "cell_type": "markdown",
   "id": "a90108e3",
   "metadata": {},
   "source": [
    "Посмотрим на силу взаимосвязи с помощью коэффициентов корреляции Пирсона и Спирмена"
   ]
  },
  {
   "cell_type": "code",
   "execution_count": 12,
   "id": "aadfa6e8",
   "metadata": {},
   "outputs": [
    {
     "data": {
      "text/plain": [
       "(0.990887213459399, 8.107805614582154e-12)"
      ]
     },
     "execution_count": 12,
     "metadata": {},
     "output_type": "execute_result"
    }
   ],
   "source": [
    "st.pearsonr(df.week_number, df.orders_number)"
   ]
  },
  {
   "cell_type": "code",
   "execution_count": 13,
   "id": "d7990300",
   "metadata": {},
   "outputs": [
    {
     "data": {
      "text/plain": [
       "SpearmanrResult(correlation=1.0, pvalue=0.0)"
      ]
     },
     "execution_count": 13,
     "metadata": {},
     "output_type": "execute_result"
    }
   ],
   "source": [
    "st.spearmanr(df.week_number, df.orders_number)"
   ]
  },
  {
   "cell_type": "markdown",
   "id": "b3174d9d",
   "metadata": {},
   "source": [
    "Коэффициенты корреляции показывают наличие сильной статистически значимой положительной линейной взаимосвязи."
   ]
  },
  {
   "cell_type": "markdown",
   "id": "523638ca",
   "metadata": {},
   "source": [
    "Построение линейной регрессионной модели:"
   ]
  },
  {
   "cell_type": "code",
   "execution_count": 14,
   "id": "b1bf3244",
   "metadata": {},
   "outputs": [
    {
     "data": {
      "text/plain": [
       "LinregressResult(slope=248.59120879120877, intercept=504.65714285714307, rvalue=0.9908872134593987, pvalue=8.107805614583926e-12, stderr=9.754833167016818, intercept_stderr=74.6101270056913)"
      ]
     },
     "execution_count": 14,
     "metadata": {},
     "output_type": "execute_result"
    }
   ],
   "source": [
    "st.linregress(df.week_number, df.orders_number)"
   ]
  },
  {
   "cell_type": "code",
   "execution_count": 15,
   "id": "880d3930",
   "metadata": {},
   "outputs": [
    {
     "name": "stdout",
     "output_type": "stream",
     "text": [
      "                            OLS Regression Results                            \n",
      "==============================================================================\n",
      "Dep. Variable:          orders_number   R-squared:                       0.982\n",
      "Model:                            OLS   Adj. R-squared:                  0.980\n",
      "Method:                 Least Squares   F-statistic:                     649.4\n",
      "Date:                Mon, 09 Aug 2021   Prob (F-statistic):           8.11e-12\n",
      "Time:                        13:53:30   Log-Likelihood:                -88.665\n",
      "No. Observations:                  14   AIC:                             181.3\n",
      "Df Residuals:                      12   BIC:                             182.6\n",
      "Df Model:                           1                                         \n",
      "Covariance Type:            nonrobust                                         \n",
      "===============================================================================\n",
      "                  coef    std err          t      P>|t|      [0.025      0.975]\n",
      "-------------------------------------------------------------------------------\n",
      "const         504.6571     74.610      6.764      0.000     342.096     667.219\n",
      "week_number   248.5912      9.755     25.484      0.000     227.337     269.845\n",
      "==============================================================================\n",
      "Omnibus:                        0.195   Durbin-Watson:                   1.393\n",
      "Prob(Omnibus):                  0.907   Jarque-Bera (JB):                0.391\n",
      "Skew:                          -0.050   Prob(JB):                        0.823\n",
      "Kurtosis:                       2.188   Cond. No.                         14.7\n",
      "==============================================================================\n",
      "\n",
      "Notes:\n",
      "[1] Standard Errors assume that the covariance matrix of the errors is correctly specified.\n"
     ]
    },
    {
     "name": "stderr",
     "output_type": "stream",
     "text": [
      "C:\\ProgramData\\Anaconda3\\lib\\site-packages\\scipy\\stats\\stats.py:1603: UserWarning: kurtosistest only valid for n>=20 ... continuing anyway, n=14\n",
      "  warnings.warn(\"kurtosistest only valid for n>=20 ... continuing \"\n"
     ]
    }
   ],
   "source": [
    "X = sm.add_constant(df.week_number)  # добавить константу, чтобы был свободный член\n",
    "model = sm.OLS(df.orders_number, X)  # говорим модели, что у нас ЗП, а что НП\n",
    "results = model.fit()  # строим регрессионную прямую\n",
    "print(results.summary())"
   ]
  },
  {
   "cell_type": "code",
   "execution_count": 16,
   "id": "b25d33c6",
   "metadata": {},
   "outputs": [
    {
     "data": {
      "text/plain": [
       "const          504.657143\n",
       "week_number    248.591209\n",
       "dtype: float64"
      ]
     },
     "execution_count": 16,
     "metadata": {},
     "output_type": "execute_result"
    }
   ],
   "source": [
    "results.params"
   ]
  },
  {
   "cell_type": "markdown",
   "id": "c8cde1fa",
   "metadata": {},
   "source": [
    "Показателем качества регрессионной модели является коэффициент детерминации (R-squared), который показывает насколько хорошо модель описывает данные. В нашем случае R-squared = 0.98, что говорит о высокой степени соответствия модели данным.\n",
    "Полученная линейная модель имеет вид: y = 504.66 + 248.59*x, где y - количество заказов, x - количество недель, прошедших с даты начала наблюдений (2020-01-05). Поскольку p-value значительно меньше 0.05, то можно говорить том, что модель предсказывает значения статистически значимо."
   ]
  },
  {
   "cell_type": "markdown",
   "id": "61635df9",
   "metadata": {},
   "source": [
    "Строим прогноз продаж с помощью линейной регрессионной модели."
   ]
  },
  {
   "cell_type": "code",
   "execution_count": 17,
   "id": "2b8b4eff",
   "metadata": {},
   "outputs": [],
   "source": [
    "x = np.linspace(0, 27, 28)\n",
    "x = sm.add_constant(x)"
   ]
  },
  {
   "cell_type": "code",
   "execution_count": 18,
   "id": "b415b4de",
   "metadata": {},
   "outputs": [
    {
     "data": {
      "text/plain": [
       "array([ 504.65714286,  753.24835165, 1001.83956044, 1250.43076923,\n",
       "       1499.02197802, 1747.61318681, 1996.2043956 , 2244.7956044 ,\n",
       "       2493.38681319, 2741.97802198, 2990.56923077, 3239.16043956,\n",
       "       3487.75164835, 3736.34285714, 3984.93406593, 4233.52527473,\n",
       "       4482.11648352, 4730.70769231, 4979.2989011 , 5227.89010989,\n",
       "       5476.48131868, 5725.07252747, 5973.66373626, 6222.25494505,\n",
       "       6470.84615385, 6719.43736264, 6968.02857143, 7216.61978022])"
      ]
     },
     "execution_count": 18,
     "metadata": {},
     "output_type": "execute_result"
    }
   ],
   "source": [
    "results.predict(x)"
   ]
  },
  {
   "cell_type": "code",
   "execution_count": 19,
   "id": "d651656f",
   "metadata": {},
   "outputs": [],
   "source": [
    "d = {'date': pd.date_range(pd.to_datetime('2020-01-05'), periods=28, freq='1w').tolist(),\n",
    "     'pred_values': results.predict(x)}"
   ]
  },
  {
   "cell_type": "code",
   "execution_count": 20,
   "id": "d35dadda",
   "metadata": {},
   "outputs": [
    {
     "data": {
      "text/html": [
       "<div>\n",
       "<style scoped>\n",
       "    .dataframe tbody tr th:only-of-type {\n",
       "        vertical-align: middle;\n",
       "    }\n",
       "\n",
       "    .dataframe tbody tr th {\n",
       "        vertical-align: top;\n",
       "    }\n",
       "\n",
       "    .dataframe thead th {\n",
       "        text-align: right;\n",
       "    }\n",
       "</style>\n",
       "<table border=\"1\" class=\"dataframe\">\n",
       "  <thead>\n",
       "    <tr style=\"text-align: right;\">\n",
       "      <th></th>\n",
       "      <th>date</th>\n",
       "      <th>pred_values</th>\n",
       "    </tr>\n",
       "  </thead>\n",
       "  <tbody>\n",
       "    <tr>\n",
       "      <th>0</th>\n",
       "      <td>2020-01-05</td>\n",
       "      <td>504.657143</td>\n",
       "    </tr>\n",
       "    <tr>\n",
       "      <th>1</th>\n",
       "      <td>2020-01-12</td>\n",
       "      <td>753.248352</td>\n",
       "    </tr>\n",
       "    <tr>\n",
       "      <th>2</th>\n",
       "      <td>2020-01-19</td>\n",
       "      <td>1001.839560</td>\n",
       "    </tr>\n",
       "    <tr>\n",
       "      <th>3</th>\n",
       "      <td>2020-01-26</td>\n",
       "      <td>1250.430769</td>\n",
       "    </tr>\n",
       "    <tr>\n",
       "      <th>4</th>\n",
       "      <td>2020-02-02</td>\n",
       "      <td>1499.021978</td>\n",
       "    </tr>\n",
       "    <tr>\n",
       "      <th>5</th>\n",
       "      <td>2020-02-09</td>\n",
       "      <td>1747.613187</td>\n",
       "    </tr>\n",
       "    <tr>\n",
       "      <th>6</th>\n",
       "      <td>2020-02-16</td>\n",
       "      <td>1996.204396</td>\n",
       "    </tr>\n",
       "    <tr>\n",
       "      <th>7</th>\n",
       "      <td>2020-02-23</td>\n",
       "      <td>2244.795604</td>\n",
       "    </tr>\n",
       "    <tr>\n",
       "      <th>8</th>\n",
       "      <td>2020-03-01</td>\n",
       "      <td>2493.386813</td>\n",
       "    </tr>\n",
       "    <tr>\n",
       "      <th>9</th>\n",
       "      <td>2020-03-08</td>\n",
       "      <td>2741.978022</td>\n",
       "    </tr>\n",
       "    <tr>\n",
       "      <th>10</th>\n",
       "      <td>2020-03-15</td>\n",
       "      <td>2990.569231</td>\n",
       "    </tr>\n",
       "    <tr>\n",
       "      <th>11</th>\n",
       "      <td>2020-03-22</td>\n",
       "      <td>3239.160440</td>\n",
       "    </tr>\n",
       "    <tr>\n",
       "      <th>12</th>\n",
       "      <td>2020-03-29</td>\n",
       "      <td>3487.751648</td>\n",
       "    </tr>\n",
       "    <tr>\n",
       "      <th>13</th>\n",
       "      <td>2020-04-05</td>\n",
       "      <td>3736.342857</td>\n",
       "    </tr>\n",
       "    <tr>\n",
       "      <th>14</th>\n",
       "      <td>2020-04-12</td>\n",
       "      <td>3984.934066</td>\n",
       "    </tr>\n",
       "    <tr>\n",
       "      <th>15</th>\n",
       "      <td>2020-04-19</td>\n",
       "      <td>4233.525275</td>\n",
       "    </tr>\n",
       "    <tr>\n",
       "      <th>16</th>\n",
       "      <td>2020-04-26</td>\n",
       "      <td>4482.116484</td>\n",
       "    </tr>\n",
       "    <tr>\n",
       "      <th>17</th>\n",
       "      <td>2020-05-03</td>\n",
       "      <td>4730.707692</td>\n",
       "    </tr>\n",
       "    <tr>\n",
       "      <th>18</th>\n",
       "      <td>2020-05-10</td>\n",
       "      <td>4979.298901</td>\n",
       "    </tr>\n",
       "    <tr>\n",
       "      <th>19</th>\n",
       "      <td>2020-05-17</td>\n",
       "      <td>5227.890110</td>\n",
       "    </tr>\n",
       "    <tr>\n",
       "      <th>20</th>\n",
       "      <td>2020-05-24</td>\n",
       "      <td>5476.481319</td>\n",
       "    </tr>\n",
       "    <tr>\n",
       "      <th>21</th>\n",
       "      <td>2020-05-31</td>\n",
       "      <td>5725.072527</td>\n",
       "    </tr>\n",
       "    <tr>\n",
       "      <th>22</th>\n",
       "      <td>2020-06-07</td>\n",
       "      <td>5973.663736</td>\n",
       "    </tr>\n",
       "    <tr>\n",
       "      <th>23</th>\n",
       "      <td>2020-06-14</td>\n",
       "      <td>6222.254945</td>\n",
       "    </tr>\n",
       "    <tr>\n",
       "      <th>24</th>\n",
       "      <td>2020-06-21</td>\n",
       "      <td>6470.846154</td>\n",
       "    </tr>\n",
       "    <tr>\n",
       "      <th>25</th>\n",
       "      <td>2020-06-28</td>\n",
       "      <td>6719.437363</td>\n",
       "    </tr>\n",
       "    <tr>\n",
       "      <th>26</th>\n",
       "      <td>2020-07-05</td>\n",
       "      <td>6968.028571</td>\n",
       "    </tr>\n",
       "    <tr>\n",
       "      <th>27</th>\n",
       "      <td>2020-07-12</td>\n",
       "      <td>7216.619780</td>\n",
       "    </tr>\n",
       "  </tbody>\n",
       "</table>\n",
       "</div>"
      ],
      "text/plain": [
       "         date  pred_values\n",
       "0  2020-01-05   504.657143\n",
       "1  2020-01-12   753.248352\n",
       "2  2020-01-19  1001.839560\n",
       "3  2020-01-26  1250.430769\n",
       "4  2020-02-02  1499.021978\n",
       "5  2020-02-09  1747.613187\n",
       "6  2020-02-16  1996.204396\n",
       "7  2020-02-23  2244.795604\n",
       "8  2020-03-01  2493.386813\n",
       "9  2020-03-08  2741.978022\n",
       "10 2020-03-15  2990.569231\n",
       "11 2020-03-22  3239.160440\n",
       "12 2020-03-29  3487.751648\n",
       "13 2020-04-05  3736.342857\n",
       "14 2020-04-12  3984.934066\n",
       "15 2020-04-19  4233.525275\n",
       "16 2020-04-26  4482.116484\n",
       "17 2020-05-03  4730.707692\n",
       "18 2020-05-10  4979.298901\n",
       "19 2020-05-17  5227.890110\n",
       "20 2020-05-24  5476.481319\n",
       "21 2020-05-31  5725.072527\n",
       "22 2020-06-07  5973.663736\n",
       "23 2020-06-14  6222.254945\n",
       "24 2020-06-21  6470.846154\n",
       "25 2020-06-28  6719.437363\n",
       "26 2020-07-05  6968.028571\n",
       "27 2020-07-12  7216.619780"
      ]
     },
     "execution_count": 20,
     "metadata": {},
     "output_type": "execute_result"
    }
   ],
   "source": [
    "df_predict_all = pd.DataFrame(d)\n",
    "df_predict_all"
   ]
  },
  {
   "cell_type": "code",
   "execution_count": 21,
   "id": "d0943b56",
   "metadata": {},
   "outputs": [],
   "source": [
    "cmp_df_1 = df_predict_all.iloc[:14]"
   ]
  },
  {
   "cell_type": "code",
   "execution_count": 22,
   "id": "e3252ca3",
   "metadata": {},
   "outputs": [
    {
     "name": "stdout",
     "output_type": "stream",
     "text": [
      "MAPE (средняя абсолютная ошибка в процентах) – 6.52 %\n",
      "MAE (средняя абсолютная ошибка) – 116.63\n"
     ]
    }
   ],
   "source": [
    "# Ошибки модели\n",
    "cmp_df = pd.merge(cmp_df_1, df, on='date')\n",
    "cmp_df.drop(columns=['week_number'], inplace=True)\n",
    "cmp_df.rename(columns={'orders_number': 'orig_values'}, inplace=True)\n",
    "cmp_df['e'] = cmp_df['orig_values'] - cmp_df['pred_values']\n",
    "cmp_df['p'] = 100*cmp_df['e']/cmp_df['orig_values']\n",
    "mape = round(np.mean(abs(cmp_df['p'])), 2)\n",
    "mae = round(np.mean(abs(cmp_df['e'])), 2)\n",
    "print('MAPE (средняя абсолютная ошибка в процентах) –', mape,'%')\n",
    "print('MAE (средняя абсолютная ошибка) –', mae)"
   ]
  },
  {
   "cell_type": "code",
   "execution_count": 23,
   "id": "614fb5c4",
   "metadata": {},
   "outputs": [],
   "source": [
    "# сохраним ошибки модели для сравнения с Prophet моделью\n",
    "d = {'model': 'linear model',\n",
    "    'MAPE, %': mape,\n",
    "    'MAE': mae}\n",
    "df_comparison = pd.DataFrame(d, index=[0])"
   ]
  },
  {
   "cell_type": "markdown",
   "id": "33b13bfc",
   "metadata": {},
   "source": [
    "Построим итоговый график с исходными и cпрогнозированными данными."
   ]
  },
  {
   "cell_type": "code",
   "execution_count": 24,
   "id": "425ca24a",
   "metadata": {},
   "outputs": [],
   "source": [
    "df_predict = df_predict_all.iloc[14:].reset_index(drop=True)"
   ]
  },
  {
   "cell_type": "code",
   "execution_count": 25,
   "id": "feae5029",
   "metadata": {},
   "outputs": [
    {
     "data": {
      "text/html": [
       "<div>\n",
       "<style scoped>\n",
       "    .dataframe tbody tr th:only-of-type {\n",
       "        vertical-align: middle;\n",
       "    }\n",
       "\n",
       "    .dataframe tbody tr th {\n",
       "        vertical-align: top;\n",
       "    }\n",
       "\n",
       "    .dataframe thead th {\n",
       "        text-align: right;\n",
       "    }\n",
       "</style>\n",
       "<table border=\"1\" class=\"dataframe\">\n",
       "  <thead>\n",
       "    <tr style=\"text-align: right;\">\n",
       "      <th></th>\n",
       "      <th>date</th>\n",
       "      <th>pred_values</th>\n",
       "      <th>week_number</th>\n",
       "    </tr>\n",
       "  </thead>\n",
       "  <tbody>\n",
       "    <tr>\n",
       "      <th>0</th>\n",
       "      <td>2020-04-12</td>\n",
       "      <td>3984.934066</td>\n",
       "      <td>14</td>\n",
       "    </tr>\n",
       "    <tr>\n",
       "      <th>1</th>\n",
       "      <td>2020-04-19</td>\n",
       "      <td>4233.525275</td>\n",
       "      <td>15</td>\n",
       "    </tr>\n",
       "    <tr>\n",
       "      <th>2</th>\n",
       "      <td>2020-04-26</td>\n",
       "      <td>4482.116484</td>\n",
       "      <td>16</td>\n",
       "    </tr>\n",
       "    <tr>\n",
       "      <th>3</th>\n",
       "      <td>2020-05-03</td>\n",
       "      <td>4730.707692</td>\n",
       "      <td>17</td>\n",
       "    </tr>\n",
       "    <tr>\n",
       "      <th>4</th>\n",
       "      <td>2020-05-10</td>\n",
       "      <td>4979.298901</td>\n",
       "      <td>18</td>\n",
       "    </tr>\n",
       "    <tr>\n",
       "      <th>5</th>\n",
       "      <td>2020-05-17</td>\n",
       "      <td>5227.890110</td>\n",
       "      <td>19</td>\n",
       "    </tr>\n",
       "    <tr>\n",
       "      <th>6</th>\n",
       "      <td>2020-05-24</td>\n",
       "      <td>5476.481319</td>\n",
       "      <td>20</td>\n",
       "    </tr>\n",
       "    <tr>\n",
       "      <th>7</th>\n",
       "      <td>2020-05-31</td>\n",
       "      <td>5725.072527</td>\n",
       "      <td>21</td>\n",
       "    </tr>\n",
       "    <tr>\n",
       "      <th>8</th>\n",
       "      <td>2020-06-07</td>\n",
       "      <td>5973.663736</td>\n",
       "      <td>22</td>\n",
       "    </tr>\n",
       "    <tr>\n",
       "      <th>9</th>\n",
       "      <td>2020-06-14</td>\n",
       "      <td>6222.254945</td>\n",
       "      <td>23</td>\n",
       "    </tr>\n",
       "    <tr>\n",
       "      <th>10</th>\n",
       "      <td>2020-06-21</td>\n",
       "      <td>6470.846154</td>\n",
       "      <td>24</td>\n",
       "    </tr>\n",
       "    <tr>\n",
       "      <th>11</th>\n",
       "      <td>2020-06-28</td>\n",
       "      <td>6719.437363</td>\n",
       "      <td>25</td>\n",
       "    </tr>\n",
       "    <tr>\n",
       "      <th>12</th>\n",
       "      <td>2020-07-05</td>\n",
       "      <td>6968.028571</td>\n",
       "      <td>26</td>\n",
       "    </tr>\n",
       "    <tr>\n",
       "      <th>13</th>\n",
       "      <td>2020-07-12</td>\n",
       "      <td>7216.619780</td>\n",
       "      <td>27</td>\n",
       "    </tr>\n",
       "  </tbody>\n",
       "</table>\n",
       "</div>"
      ],
      "text/plain": [
       "         date  pred_values  week_number\n",
       "0  2020-04-12  3984.934066           14\n",
       "1  2020-04-19  4233.525275           15\n",
       "2  2020-04-26  4482.116484           16\n",
       "3  2020-05-03  4730.707692           17\n",
       "4  2020-05-10  4979.298901           18\n",
       "5  2020-05-17  5227.890110           19\n",
       "6  2020-05-24  5476.481319           20\n",
       "7  2020-05-31  5725.072527           21\n",
       "8  2020-06-07  5973.663736           22\n",
       "9  2020-06-14  6222.254945           23\n",
       "10 2020-06-21  6470.846154           24\n",
       "11 2020-06-28  6719.437363           25\n",
       "12 2020-07-05  6968.028571           26\n",
       "13 2020-07-12  7216.619780           27"
      ]
     },
     "execution_count": 25,
     "metadata": {},
     "output_type": "execute_result"
    }
   ],
   "source": [
    "df_predict['week_number'] = pd.Series(df_predict.date).diff().dt.days.div(7).fillna(14).astype('int').cumsum()\n",
    "df_predict"
   ]
  },
  {
   "cell_type": "code",
   "execution_count": 26,
   "id": "35aeef1f",
   "metadata": {},
   "outputs": [],
   "source": [
    "df_predict.rename(columns={'pred_values': 'orders_number'}, inplace=True)"
   ]
  },
  {
   "cell_type": "code",
   "execution_count": 27,
   "id": "e06bb925",
   "metadata": {},
   "outputs": [
    {
     "data": {
      "text/html": [
       "<div>\n",
       "<style scoped>\n",
       "    .dataframe tbody tr th:only-of-type {\n",
       "        vertical-align: middle;\n",
       "    }\n",
       "\n",
       "    .dataframe tbody tr th {\n",
       "        vertical-align: top;\n",
       "    }\n",
       "\n",
       "    .dataframe thead th {\n",
       "        text-align: right;\n",
       "    }\n",
       "</style>\n",
       "<table border=\"1\" class=\"dataframe\">\n",
       "  <thead>\n",
       "    <tr style=\"text-align: right;\">\n",
       "      <th></th>\n",
       "      <th>date</th>\n",
       "      <th>orders_number</th>\n",
       "      <th>week_number</th>\n",
       "      <th>value_status</th>\n",
       "    </tr>\n",
       "  </thead>\n",
       "  <tbody>\n",
       "    <tr>\n",
       "      <th>0</th>\n",
       "      <td>2020-01-05</td>\n",
       "      <td>650.000000</td>\n",
       "      <td>0</td>\n",
       "      <td>original</td>\n",
       "    </tr>\n",
       "    <tr>\n",
       "      <th>1</th>\n",
       "      <td>2020-01-12</td>\n",
       "      <td>837.000000</td>\n",
       "      <td>1</td>\n",
       "      <td>original</td>\n",
       "    </tr>\n",
       "    <tr>\n",
       "      <th>2</th>\n",
       "      <td>2020-01-19</td>\n",
       "      <td>1020.000000</td>\n",
       "      <td>2</td>\n",
       "      <td>original</td>\n",
       "    </tr>\n",
       "    <tr>\n",
       "      <th>3</th>\n",
       "      <td>2020-01-26</td>\n",
       "      <td>1176.000000</td>\n",
       "      <td>3</td>\n",
       "      <td>original</td>\n",
       "    </tr>\n",
       "    <tr>\n",
       "      <th>4</th>\n",
       "      <td>2020-02-02</td>\n",
       "      <td>1392.000000</td>\n",
       "      <td>4</td>\n",
       "      <td>original</td>\n",
       "    </tr>\n",
       "    <tr>\n",
       "      <th>5</th>\n",
       "      <td>2020-02-09</td>\n",
       "      <td>1823.000000</td>\n",
       "      <td>5</td>\n",
       "      <td>original</td>\n",
       "    </tr>\n",
       "    <tr>\n",
       "      <th>6</th>\n",
       "      <td>2020-02-16</td>\n",
       "      <td>1991.000000</td>\n",
       "      <td>6</td>\n",
       "      <td>original</td>\n",
       "    </tr>\n",
       "    <tr>\n",
       "      <th>7</th>\n",
       "      <td>2020-02-23</td>\n",
       "      <td>2166.000000</td>\n",
       "      <td>7</td>\n",
       "      <td>original</td>\n",
       "    </tr>\n",
       "    <tr>\n",
       "      <th>8</th>\n",
       "      <td>2020-03-01</td>\n",
       "      <td>2334.000000</td>\n",
       "      <td>8</td>\n",
       "      <td>original</td>\n",
       "    </tr>\n",
       "    <tr>\n",
       "      <th>9</th>\n",
       "      <td>2020-03-08</td>\n",
       "      <td>2607.000000</td>\n",
       "      <td>9</td>\n",
       "      <td>original</td>\n",
       "    </tr>\n",
       "    <tr>\n",
       "      <th>10</th>\n",
       "      <td>2020-03-15</td>\n",
       "      <td>2734.000000</td>\n",
       "      <td>10</td>\n",
       "      <td>original</td>\n",
       "    </tr>\n",
       "    <tr>\n",
       "      <th>11</th>\n",
       "      <td>2020-03-22</td>\n",
       "      <td>3492.000000</td>\n",
       "      <td>11</td>\n",
       "      <td>original</td>\n",
       "    </tr>\n",
       "    <tr>\n",
       "      <th>12</th>\n",
       "      <td>2020-03-29</td>\n",
       "      <td>3608.000000</td>\n",
       "      <td>12</td>\n",
       "      <td>original</td>\n",
       "    </tr>\n",
       "    <tr>\n",
       "      <th>13</th>\n",
       "      <td>2020-04-05</td>\n",
       "      <td>3857.000000</td>\n",
       "      <td>13</td>\n",
       "      <td>original</td>\n",
       "    </tr>\n",
       "    <tr>\n",
       "      <th>14</th>\n",
       "      <td>2020-04-12</td>\n",
       "      <td>3984.934066</td>\n",
       "      <td>14</td>\n",
       "      <td>predicted</td>\n",
       "    </tr>\n",
       "    <tr>\n",
       "      <th>15</th>\n",
       "      <td>2020-04-19</td>\n",
       "      <td>4233.525275</td>\n",
       "      <td>15</td>\n",
       "      <td>predicted</td>\n",
       "    </tr>\n",
       "    <tr>\n",
       "      <th>16</th>\n",
       "      <td>2020-04-26</td>\n",
       "      <td>4482.116484</td>\n",
       "      <td>16</td>\n",
       "      <td>predicted</td>\n",
       "    </tr>\n",
       "    <tr>\n",
       "      <th>17</th>\n",
       "      <td>2020-05-03</td>\n",
       "      <td>4730.707692</td>\n",
       "      <td>17</td>\n",
       "      <td>predicted</td>\n",
       "    </tr>\n",
       "    <tr>\n",
       "      <th>18</th>\n",
       "      <td>2020-05-10</td>\n",
       "      <td>4979.298901</td>\n",
       "      <td>18</td>\n",
       "      <td>predicted</td>\n",
       "    </tr>\n",
       "    <tr>\n",
       "      <th>19</th>\n",
       "      <td>2020-05-17</td>\n",
       "      <td>5227.890110</td>\n",
       "      <td>19</td>\n",
       "      <td>predicted</td>\n",
       "    </tr>\n",
       "    <tr>\n",
       "      <th>20</th>\n",
       "      <td>2020-05-24</td>\n",
       "      <td>5476.481319</td>\n",
       "      <td>20</td>\n",
       "      <td>predicted</td>\n",
       "    </tr>\n",
       "    <tr>\n",
       "      <th>21</th>\n",
       "      <td>2020-05-31</td>\n",
       "      <td>5725.072527</td>\n",
       "      <td>21</td>\n",
       "      <td>predicted</td>\n",
       "    </tr>\n",
       "    <tr>\n",
       "      <th>22</th>\n",
       "      <td>2020-06-07</td>\n",
       "      <td>5973.663736</td>\n",
       "      <td>22</td>\n",
       "      <td>predicted</td>\n",
       "    </tr>\n",
       "    <tr>\n",
       "      <th>23</th>\n",
       "      <td>2020-06-14</td>\n",
       "      <td>6222.254945</td>\n",
       "      <td>23</td>\n",
       "      <td>predicted</td>\n",
       "    </tr>\n",
       "    <tr>\n",
       "      <th>24</th>\n",
       "      <td>2020-06-21</td>\n",
       "      <td>6470.846154</td>\n",
       "      <td>24</td>\n",
       "      <td>predicted</td>\n",
       "    </tr>\n",
       "    <tr>\n",
       "      <th>25</th>\n",
       "      <td>2020-06-28</td>\n",
       "      <td>6719.437363</td>\n",
       "      <td>25</td>\n",
       "      <td>predicted</td>\n",
       "    </tr>\n",
       "    <tr>\n",
       "      <th>26</th>\n",
       "      <td>2020-07-05</td>\n",
       "      <td>6968.028571</td>\n",
       "      <td>26</td>\n",
       "      <td>predicted</td>\n",
       "    </tr>\n",
       "    <tr>\n",
       "      <th>27</th>\n",
       "      <td>2020-07-12</td>\n",
       "      <td>7216.619780</td>\n",
       "      <td>27</td>\n",
       "      <td>predicted</td>\n",
       "    </tr>\n",
       "  </tbody>\n",
       "</table>\n",
       "</div>"
      ],
      "text/plain": [
       "         date  orders_number  week_number value_status\n",
       "0  2020-01-05     650.000000            0     original\n",
       "1  2020-01-12     837.000000            1     original\n",
       "2  2020-01-19    1020.000000            2     original\n",
       "3  2020-01-26    1176.000000            3     original\n",
       "4  2020-02-02    1392.000000            4     original\n",
       "5  2020-02-09    1823.000000            5     original\n",
       "6  2020-02-16    1991.000000            6     original\n",
       "7  2020-02-23    2166.000000            7     original\n",
       "8  2020-03-01    2334.000000            8     original\n",
       "9  2020-03-08    2607.000000            9     original\n",
       "10 2020-03-15    2734.000000           10     original\n",
       "11 2020-03-22    3492.000000           11     original\n",
       "12 2020-03-29    3608.000000           12     original\n",
       "13 2020-04-05    3857.000000           13     original\n",
       "14 2020-04-12    3984.934066           14    predicted\n",
       "15 2020-04-19    4233.525275           15    predicted\n",
       "16 2020-04-26    4482.116484           16    predicted\n",
       "17 2020-05-03    4730.707692           17    predicted\n",
       "18 2020-05-10    4979.298901           18    predicted\n",
       "19 2020-05-17    5227.890110           19    predicted\n",
       "20 2020-05-24    5476.481319           20    predicted\n",
       "21 2020-05-31    5725.072527           21    predicted\n",
       "22 2020-06-07    5973.663736           22    predicted\n",
       "23 2020-06-14    6222.254945           23    predicted\n",
       "24 2020-06-21    6470.846154           24    predicted\n",
       "25 2020-06-28    6719.437363           25    predicted\n",
       "26 2020-07-05    6968.028571           26    predicted\n",
       "27 2020-07-12    7216.619780           27    predicted"
      ]
     },
     "execution_count": 27,
     "metadata": {},
     "output_type": "execute_result"
    }
   ],
   "source": [
    "df['value_status'] = 'original'\n",
    "df_predict['value_status'] = 'predicted'\n",
    "df_final = pd.concat([df, df_predict]).reset_index(drop=True)\n",
    "df_final"
   ]
  },
  {
   "cell_type": "code",
   "execution_count": 28,
   "id": "ca7fb82e",
   "metadata": {},
   "outputs": [
    {
     "data": {
      "image/png": "[encoded data removed]",
      "text/plain": [
       "<Figure size 864x432 with 1 Axes>"
      ]
     },
     "metadata": {},
     "output_type": "display_data"
    }
   ],
   "source": [
    "ax = sns.regplot(x='week_number', y='orders_number', data=df_final,\n",
    "                 line_kws={\"color\": '#CF9B8F'}, scatter=False, label='linear model')\n",
    "sns.scatterplot(x='week_number', y='orders_number', data=df_final, hue='value_status')\n",
    "\n",
    "plt.xticks(range(0, 28))\n",
    "x_labels = [(pd.to_datetime('2020-01-05') + pd.to_timedelta(i, unit='W')).strftime('%d-%m-%Y') for i in ax.get_xticks()]\n",
    "ax.set_xticklabels(x_labels)\n",
    "plt.xticks(rotation=90)\n",
    "ax.set_xlabel('Дата')\n",
    "ax.set_ylabel('Число заказов')\n",
    "ax.set_xlim([-1, 28])\n",
    "plt.legend();"
   ]
  },
  {
   "cell_type": "markdown",
   "id": "4b39377b",
   "metadata": {},
   "source": [
    "Добавим 95% доверительный интервал для модели."
   ]
  },
  {
   "cell_type": "code",
   "execution_count": 29,
   "id": "cff011e3",
   "metadata": {},
   "outputs": [
    {
     "name": "stdout",
     "output_type": "stream",
     "text": [
      "                      0           1\n",
      "const        342.095641  667.218645\n",
      "week_number  227.337253  269.845164\n"
     ]
    }
   ],
   "source": [
    "ci = results.conf_int(0.05)\n",
    "print(ci)"
   ]
  },
  {
   "cell_type": "code",
   "execution_count": 30,
   "id": "3ef90abb",
   "metadata": {},
   "outputs": [
    {
     "data": {
      "text/html": [
       "<div>\n",
       "<style scoped>\n",
       "    .dataframe tbody tr th:only-of-type {\n",
       "        vertical-align: middle;\n",
       "    }\n",
       "\n",
       "    .dataframe tbody tr th {\n",
       "        vertical-align: top;\n",
       "    }\n",
       "\n",
       "    .dataframe thead th {\n",
       "        text-align: right;\n",
       "    }\n",
       "</style>\n",
       "<table border=\"1\" class=\"dataframe\">\n",
       "  <thead>\n",
       "    <tr style=\"text-align: right;\">\n",
       "      <th></th>\n",
       "      <th>date</th>\n",
       "      <th>orders_number</th>\n",
       "      <th>week_number</th>\n",
       "      <th>value_status</th>\n",
       "      <th>min_conf_int</th>\n",
       "      <th>max_conf_int</th>\n",
       "    </tr>\n",
       "  </thead>\n",
       "  <tbody>\n",
       "    <tr>\n",
       "      <th>0</th>\n",
       "      <td>2020-01-05</td>\n",
       "      <td>650.000000</td>\n",
       "      <td>0</td>\n",
       "      <td>original</td>\n",
       "      <td>342.095641</td>\n",
       "      <td>667.218645</td>\n",
       "    </tr>\n",
       "    <tr>\n",
       "      <th>1</th>\n",
       "      <td>2020-01-12</td>\n",
       "      <td>837.000000</td>\n",
       "      <td>1</td>\n",
       "      <td>original</td>\n",
       "      <td>569.432894</td>\n",
       "      <td>937.063809</td>\n",
       "    </tr>\n",
       "    <tr>\n",
       "      <th>2</th>\n",
       "      <td>2020-01-19</td>\n",
       "      <td>1020.000000</td>\n",
       "      <td>2</td>\n",
       "      <td>original</td>\n",
       "      <td>796.770147</td>\n",
       "      <td>1206.908974</td>\n",
       "    </tr>\n",
       "    <tr>\n",
       "      <th>3</th>\n",
       "      <td>2020-01-26</td>\n",
       "      <td>1176.000000</td>\n",
       "      <td>3</td>\n",
       "      <td>original</td>\n",
       "      <td>1024.107400</td>\n",
       "      <td>1476.754138</td>\n",
       "    </tr>\n",
       "    <tr>\n",
       "      <th>4</th>\n",
       "      <td>2020-02-02</td>\n",
       "      <td>1392.000000</td>\n",
       "      <td>4</td>\n",
       "      <td>original</td>\n",
       "      <td>1251.444653</td>\n",
       "      <td>1746.599303</td>\n",
       "    </tr>\n",
       "    <tr>\n",
       "      <th>5</th>\n",
       "      <td>2020-02-09</td>\n",
       "      <td>1823.000000</td>\n",
       "      <td>5</td>\n",
       "      <td>original</td>\n",
       "      <td>1478.781907</td>\n",
       "      <td>2016.444467</td>\n",
       "    </tr>\n",
       "    <tr>\n",
       "      <th>6</th>\n",
       "      <td>2020-02-16</td>\n",
       "      <td>1991.000000</td>\n",
       "      <td>6</td>\n",
       "      <td>original</td>\n",
       "      <td>1706.119160</td>\n",
       "      <td>2286.289631</td>\n",
       "    </tr>\n",
       "    <tr>\n",
       "      <th>7</th>\n",
       "      <td>2020-02-23</td>\n",
       "      <td>2166.000000</td>\n",
       "      <td>7</td>\n",
       "      <td>original</td>\n",
       "      <td>1933.456413</td>\n",
       "      <td>2556.134796</td>\n",
       "    </tr>\n",
       "    <tr>\n",
       "      <th>8</th>\n",
       "      <td>2020-03-01</td>\n",
       "      <td>2334.000000</td>\n",
       "      <td>8</td>\n",
       "      <td>original</td>\n",
       "      <td>2160.793666</td>\n",
       "      <td>2825.979960</td>\n",
       "    </tr>\n",
       "    <tr>\n",
       "      <th>9</th>\n",
       "      <td>2020-03-08</td>\n",
       "      <td>2607.000000</td>\n",
       "      <td>9</td>\n",
       "      <td>original</td>\n",
       "      <td>2388.130919</td>\n",
       "      <td>3095.825125</td>\n",
       "    </tr>\n",
       "    <tr>\n",
       "      <th>10</th>\n",
       "      <td>2020-03-15</td>\n",
       "      <td>2734.000000</td>\n",
       "      <td>10</td>\n",
       "      <td>original</td>\n",
       "      <td>2615.468172</td>\n",
       "      <td>3365.670289</td>\n",
       "    </tr>\n",
       "    <tr>\n",
       "      <th>11</th>\n",
       "      <td>2020-03-22</td>\n",
       "      <td>3492.000000</td>\n",
       "      <td>11</td>\n",
       "      <td>original</td>\n",
       "      <td>2842.805425</td>\n",
       "      <td>3635.515454</td>\n",
       "    </tr>\n",
       "    <tr>\n",
       "      <th>12</th>\n",
       "      <td>2020-03-29</td>\n",
       "      <td>3608.000000</td>\n",
       "      <td>12</td>\n",
       "      <td>original</td>\n",
       "      <td>3070.142679</td>\n",
       "      <td>3905.360618</td>\n",
       "    </tr>\n",
       "    <tr>\n",
       "      <th>13</th>\n",
       "      <td>2020-04-05</td>\n",
       "      <td>3857.000000</td>\n",
       "      <td>13</td>\n",
       "      <td>original</td>\n",
       "      <td>3297.479932</td>\n",
       "      <td>4175.205783</td>\n",
       "    </tr>\n",
       "    <tr>\n",
       "      <th>14</th>\n",
       "      <td>2020-04-12</td>\n",
       "      <td>3984.934066</td>\n",
       "      <td>14</td>\n",
       "      <td>predicted</td>\n",
       "      <td>3524.817185</td>\n",
       "      <td>4445.050947</td>\n",
       "    </tr>\n",
       "    <tr>\n",
       "      <th>15</th>\n",
       "      <td>2020-04-19</td>\n",
       "      <td>4233.525275</td>\n",
       "      <td>15</td>\n",
       "      <td>predicted</td>\n",
       "      <td>3752.154438</td>\n",
       "      <td>4714.896112</td>\n",
       "    </tr>\n",
       "    <tr>\n",
       "      <th>16</th>\n",
       "      <td>2020-04-26</td>\n",
       "      <td>4482.116484</td>\n",
       "      <td>16</td>\n",
       "      <td>predicted</td>\n",
       "      <td>3979.491691</td>\n",
       "      <td>4984.741276</td>\n",
       "    </tr>\n",
       "    <tr>\n",
       "      <th>17</th>\n",
       "      <td>2020-05-03</td>\n",
       "      <td>4730.707692</td>\n",
       "      <td>17</td>\n",
       "      <td>predicted</td>\n",
       "      <td>4206.828944</td>\n",
       "      <td>5254.586440</td>\n",
       "    </tr>\n",
       "    <tr>\n",
       "      <th>18</th>\n",
       "      <td>2020-05-10</td>\n",
       "      <td>4979.298901</td>\n",
       "      <td>18</td>\n",
       "      <td>predicted</td>\n",
       "      <td>4434.166197</td>\n",
       "      <td>5524.431605</td>\n",
       "    </tr>\n",
       "    <tr>\n",
       "      <th>19</th>\n",
       "      <td>2020-05-17</td>\n",
       "      <td>5227.890110</td>\n",
       "      <td>19</td>\n",
       "      <td>predicted</td>\n",
       "      <td>4661.503450</td>\n",
       "      <td>5794.276769</td>\n",
       "    </tr>\n",
       "    <tr>\n",
       "      <th>20</th>\n",
       "      <td>2020-05-24</td>\n",
       "      <td>5476.481319</td>\n",
       "      <td>20</td>\n",
       "      <td>predicted</td>\n",
       "      <td>4888.840704</td>\n",
       "      <td>6064.121934</td>\n",
       "    </tr>\n",
       "    <tr>\n",
       "      <th>21</th>\n",
       "      <td>2020-05-31</td>\n",
       "      <td>5725.072527</td>\n",
       "      <td>21</td>\n",
       "      <td>predicted</td>\n",
       "      <td>5116.177957</td>\n",
       "      <td>6333.967098</td>\n",
       "    </tr>\n",
       "    <tr>\n",
       "      <th>22</th>\n",
       "      <td>2020-06-07</td>\n",
       "      <td>5973.663736</td>\n",
       "      <td>22</td>\n",
       "      <td>predicted</td>\n",
       "      <td>5343.515210</td>\n",
       "      <td>6603.812263</td>\n",
       "    </tr>\n",
       "    <tr>\n",
       "      <th>23</th>\n",
       "      <td>2020-06-14</td>\n",
       "      <td>6222.254945</td>\n",
       "      <td>23</td>\n",
       "      <td>predicted</td>\n",
       "      <td>5570.852463</td>\n",
       "      <td>6873.657427</td>\n",
       "    </tr>\n",
       "    <tr>\n",
       "      <th>24</th>\n",
       "      <td>2020-06-21</td>\n",
       "      <td>6470.846154</td>\n",
       "      <td>24</td>\n",
       "      <td>predicted</td>\n",
       "      <td>5798.189716</td>\n",
       "      <td>7143.502592</td>\n",
       "    </tr>\n",
       "    <tr>\n",
       "      <th>25</th>\n",
       "      <td>2020-06-28</td>\n",
       "      <td>6719.437363</td>\n",
       "      <td>25</td>\n",
       "      <td>predicted</td>\n",
       "      <td>6025.526969</td>\n",
       "      <td>7413.347756</td>\n",
       "    </tr>\n",
       "    <tr>\n",
       "      <th>26</th>\n",
       "      <td>2020-07-05</td>\n",
       "      <td>6968.028571</td>\n",
       "      <td>26</td>\n",
       "      <td>predicted</td>\n",
       "      <td>6252.864222</td>\n",
       "      <td>7683.192920</td>\n",
       "    </tr>\n",
       "    <tr>\n",
       "      <th>27</th>\n",
       "      <td>2020-07-12</td>\n",
       "      <td>7216.619780</td>\n",
       "      <td>27</td>\n",
       "      <td>predicted</td>\n",
       "      <td>6480.201476</td>\n",
       "      <td>7953.038085</td>\n",
       "    </tr>\n",
       "  </tbody>\n",
       "</table>\n",
       "</div>"
      ],
      "text/plain": [
       "         date  orders_number  week_number value_status  min_conf_int  \\\n",
       "0  2020-01-05     650.000000            0     original    342.095641   \n",
       "1  2020-01-12     837.000000            1     original    569.432894   \n",
       "2  2020-01-19    1020.000000            2     original    796.770147   \n",
       "3  2020-01-26    1176.000000            3     original   1024.107400   \n",
       "4  2020-02-02    1392.000000            4     original   1251.444653   \n",
       "5  2020-02-09    1823.000000            5     original   1478.781907   \n",
       "6  2020-02-16    1991.000000            6     original   1706.119160   \n",
       "7  2020-02-23    2166.000000            7     original   1933.456413   \n",
       "8  2020-03-01    2334.000000            8     original   2160.793666   \n",
       "9  2020-03-08    2607.000000            9     original   2388.130919   \n",
       "10 2020-03-15    2734.000000           10     original   2615.468172   \n",
       "11 2020-03-22    3492.000000           11     original   2842.805425   \n",
       "12 2020-03-29    3608.000000           12     original   3070.142679   \n",
       "13 2020-04-05    3857.000000           13     original   3297.479932   \n",
       "14 2020-04-12    3984.934066           14    predicted   3524.817185   \n",
       "15 2020-04-19    4233.525275           15    predicted   3752.154438   \n",
       "16 2020-04-26    4482.116484           16    predicted   3979.491691   \n",
       "17 2020-05-03    4730.707692           17    predicted   4206.828944   \n",
       "18 2020-05-10    4979.298901           18    predicted   4434.166197   \n",
       "19 2020-05-17    5227.890110           19    predicted   4661.503450   \n",
       "20 2020-05-24    5476.481319           20    predicted   4888.840704   \n",
       "21 2020-05-31    5725.072527           21    predicted   5116.177957   \n",
       "22 2020-06-07    5973.663736           22    predicted   5343.515210   \n",
       "23 2020-06-14    6222.254945           23    predicted   5570.852463   \n",
       "24 2020-06-21    6470.846154           24    predicted   5798.189716   \n",
       "25 2020-06-28    6719.437363           25    predicted   6025.526969   \n",
       "26 2020-07-05    6968.028571           26    predicted   6252.864222   \n",
       "27 2020-07-12    7216.619780           27    predicted   6480.201476   \n",
       "\n",
       "    max_conf_int  \n",
       "0     667.218645  \n",
       "1     937.063809  \n",
       "2    1206.908974  \n",
       "3    1476.754138  \n",
       "4    1746.599303  \n",
       "5    2016.444467  \n",
       "6    2286.289631  \n",
       "7    2556.134796  \n",
       "8    2825.979960  \n",
       "9    3095.825125  \n",
       "10   3365.670289  \n",
       "11   3635.515454  \n",
       "12   3905.360618  \n",
       "13   4175.205783  \n",
       "14   4445.050947  \n",
       "15   4714.896112  \n",
       "16   4984.741276  \n",
       "17   5254.586440  \n",
       "18   5524.431605  \n",
       "19   5794.276769  \n",
       "20   6064.121934  \n",
       "21   6333.967098  \n",
       "22   6603.812263  \n",
       "23   6873.657427  \n",
       "24   7143.502592  \n",
       "25   7413.347756  \n",
       "26   7683.192920  \n",
       "27   7953.038085  "
      ]
     },
     "execution_count": 30,
     "metadata": {},
     "output_type": "execute_result"
    }
   ],
   "source": [
    "df_final['min_conf_int'] = ci[0][0] + df_final.week_number * ci[0][1]\n",
    "df_final['max_conf_int'] = ci[1][0] + df_final.week_number * ci[1][1]\n",
    "df_final"
   ]
  },
  {
   "cell_type": "code",
   "execution_count": 31,
   "id": "913f3973",
   "metadata": {},
   "outputs": [
    {
     "data": {
      "image/png": "[encoded data removed]",
      "text/plain": [
       "<Figure size 864x432 with 1 Axes>"
      ]
     },
     "metadata": {},
     "output_type": "display_data"
    }
   ],
   "source": [
    "ax = sns.regplot(x='week_number', y='orders_number', data=df_final, \n",
    "                 line_kws={\"color\": '#CF9B8F'}, scatter=False, label='linear model')\n",
    "sns.scatterplot(x='week_number', y='orders_number', data=df_final, hue='value_status')\n",
    "sns.lineplot(x='week_number', y='min_conf_int', data=df_final, color='#34C924', label='linear lower')\n",
    "sns.lineplot(x='week_number', y='max_conf_int', data=df_final, color='#34C924', label='linear upper')\n",
    "\n",
    "plt.xticks(range(0, 28))\n",
    "x_labels = [(pd.to_datetime('2020-01-05') + pd.to_timedelta(i, unit='W')).strftime('%d-%m-%Y') for i in ax.get_xticks()]\n",
    "ax.set_xticklabels(x_labels)\n",
    "plt.xticks(rotation=90)\n",
    "ax.set_xlabel('Дата')\n",
    "ax.set_ylabel('Число заказов')\n",
    "ax.set_xlim([-1, 28])\n",
    "plt.legend();"
   ]
  },
  {
   "cell_type": "markdown",
   "id": "9b9a698d",
   "metadata": {},
   "source": [
    "Все исходные данные входят в границы 95% доверительного интервала"
   ]
  },
  {
   "cell_type": "markdown",
   "id": "818bb9ec",
   "metadata": {},
   "source": [
    "Составим таблицу итогового прогноза с доверительными интервалами и сохраним в Excel для отчётности."
   ]
  },
  {
   "cell_type": "code",
   "execution_count": 32,
   "id": "18d481b2",
   "metadata": {},
   "outputs": [],
   "source": [
    "df_linear_prediction = df_final.query('value_status == \"predicted\"')[['date', 'orders_number', 'min_conf_int', 'max_conf_int']]"
   ]
  },
  {
   "cell_type": "code",
   "execution_count": 33,
   "id": "4dd01679",
   "metadata": {},
   "outputs": [
    {
     "data": {
      "text/html": [
       "<div>\n",
       "<style scoped>\n",
       "    .dataframe tbody tr th:only-of-type {\n",
       "        vertical-align: middle;\n",
       "    }\n",
       "\n",
       "    .dataframe tbody tr th {\n",
       "        vertical-align: top;\n",
       "    }\n",
       "\n",
       "    .dataframe thead th {\n",
       "        text-align: right;\n",
       "    }\n",
       "</style>\n",
       "<table border=\"1\" class=\"dataframe\">\n",
       "  <thead>\n",
       "    <tr style=\"text-align: right;\">\n",
       "      <th></th>\n",
       "      <th>Дата</th>\n",
       "      <th>Прогноз. число заказов</th>\n",
       "      <th>Мин. прогноз. число заказов</th>\n",
       "      <th>Макс. прогноз. число заказов</th>\n",
       "    </tr>\n",
       "  </thead>\n",
       "  <tbody>\n",
       "    <tr>\n",
       "      <th>14</th>\n",
       "      <td>2020-04-12</td>\n",
       "      <td>3985</td>\n",
       "      <td>3525</td>\n",
       "      <td>4445</td>\n",
       "    </tr>\n",
       "    <tr>\n",
       "      <th>15</th>\n",
       "      <td>2020-04-19</td>\n",
       "      <td>4234</td>\n",
       "      <td>3752</td>\n",
       "      <td>4715</td>\n",
       "    </tr>\n",
       "    <tr>\n",
       "      <th>16</th>\n",
       "      <td>2020-04-26</td>\n",
       "      <td>4482</td>\n",
       "      <td>3979</td>\n",
       "      <td>4985</td>\n",
       "    </tr>\n",
       "    <tr>\n",
       "      <th>17</th>\n",
       "      <td>2020-05-03</td>\n",
       "      <td>4731</td>\n",
       "      <td>4207</td>\n",
       "      <td>5255</td>\n",
       "    </tr>\n",
       "    <tr>\n",
       "      <th>18</th>\n",
       "      <td>2020-05-10</td>\n",
       "      <td>4979</td>\n",
       "      <td>4434</td>\n",
       "      <td>5524</td>\n",
       "    </tr>\n",
       "    <tr>\n",
       "      <th>19</th>\n",
       "      <td>2020-05-17</td>\n",
       "      <td>5228</td>\n",
       "      <td>4662</td>\n",
       "      <td>5794</td>\n",
       "    </tr>\n",
       "    <tr>\n",
       "      <th>20</th>\n",
       "      <td>2020-05-24</td>\n",
       "      <td>5476</td>\n",
       "      <td>4889</td>\n",
       "      <td>6064</td>\n",
       "    </tr>\n",
       "    <tr>\n",
       "      <th>21</th>\n",
       "      <td>2020-05-31</td>\n",
       "      <td>5725</td>\n",
       "      <td>5116</td>\n",
       "      <td>6334</td>\n",
       "    </tr>\n",
       "    <tr>\n",
       "      <th>22</th>\n",
       "      <td>2020-06-07</td>\n",
       "      <td>5974</td>\n",
       "      <td>5344</td>\n",
       "      <td>6604</td>\n",
       "    </tr>\n",
       "    <tr>\n",
       "      <th>23</th>\n",
       "      <td>2020-06-14</td>\n",
       "      <td>6222</td>\n",
       "      <td>5571</td>\n",
       "      <td>6874</td>\n",
       "    </tr>\n",
       "    <tr>\n",
       "      <th>24</th>\n",
       "      <td>2020-06-21</td>\n",
       "      <td>6471</td>\n",
       "      <td>5798</td>\n",
       "      <td>7144</td>\n",
       "    </tr>\n",
       "    <tr>\n",
       "      <th>25</th>\n",
       "      <td>2020-06-28</td>\n",
       "      <td>6719</td>\n",
       "      <td>6026</td>\n",
       "      <td>7413</td>\n",
       "    </tr>\n",
       "    <tr>\n",
       "      <th>26</th>\n",
       "      <td>2020-07-05</td>\n",
       "      <td>6968</td>\n",
       "      <td>6253</td>\n",
       "      <td>7683</td>\n",
       "    </tr>\n",
       "    <tr>\n",
       "      <th>27</th>\n",
       "      <td>2020-07-12</td>\n",
       "      <td>7217</td>\n",
       "      <td>6480</td>\n",
       "      <td>7953</td>\n",
       "    </tr>\n",
       "  </tbody>\n",
       "</table>\n",
       "</div>"
      ],
      "text/plain": [
       "         Дата  Прогноз. число заказов  Мин. прогноз. число заказов  \\\n",
       "14 2020-04-12                    3985                         3525   \n",
       "15 2020-04-19                    4234                         3752   \n",
       "16 2020-04-26                    4482                         3979   \n",
       "17 2020-05-03                    4731                         4207   \n",
       "18 2020-05-10                    4979                         4434   \n",
       "19 2020-05-17                    5228                         4662   \n",
       "20 2020-05-24                    5476                         4889   \n",
       "21 2020-05-31                    5725                         5116   \n",
       "22 2020-06-07                    5974                         5344   \n",
       "23 2020-06-14                    6222                         5571   \n",
       "24 2020-06-21                    6471                         5798   \n",
       "25 2020-06-28                    6719                         6026   \n",
       "26 2020-07-05                    6968                         6253   \n",
       "27 2020-07-12                    7217                         6480   \n",
       "\n",
       "    Макс. прогноз. число заказов  \n",
       "14                          4445  \n",
       "15                          4715  \n",
       "16                          4985  \n",
       "17                          5255  \n",
       "18                          5524  \n",
       "19                          5794  \n",
       "20                          6064  \n",
       "21                          6334  \n",
       "22                          6604  \n",
       "23                          6874  \n",
       "24                          7144  \n",
       "25                          7413  \n",
       "26                          7683  \n",
       "27                          7953  "
      ]
     },
     "execution_count": 33,
     "metadata": {},
     "output_type": "execute_result"
    }
   ],
   "source": [
    "df_linear_prediction.orders_number = df_linear_prediction.orders_number.round().astype('int')\n",
    "df_linear_prediction.min_conf_int = df_linear_prediction.min_conf_int.round().astype('int')\n",
    "df_linear_prediction.max_conf_int = df_linear_prediction.max_conf_int.round().astype('int')\n",
    "df_linear_prediction.rename(columns={'date': 'Дата', 'orders_number': 'Прогноз. число заказов',\n",
    "                                     'min_conf_int': 'Мин. прогноз. число заказов', \n",
    "                                     'max_conf_int': 'Макс. прогноз. число заказов'}, inplace=True)\n",
    "df_linear_prediction"
   ]
  },
  {
   "cell_type": "code",
   "execution_count": 34,
   "id": "a0a6f45e",
   "metadata": {},
   "outputs": [],
   "source": [
    "df_linear_prediction.to_excel(\"lm_prediction_report.xlsx\", index=False)"
   ]
  },
  {
   "cell_type": "markdown",
   "id": "2e100e39",
   "metadata": {},
   "source": [
    "**Вывод:**  \n",
    "Для предсказания количества продаж была использована линейная регрессионная модель, которая согласно коэффициенту детерминации (R-squared) = 0.98 показывает высокую степень соответствия модели данным.  \n",
    "В результате получена таблица с прогнозируемыми значениями количества продаж на ближайшие 3 месяца с минимальными и максимальными границами значений (нижними и верхними границами 95% доверительного интервала).  \n",
    "Также стоит отметить, что данных для построения регрессионной модели весьма мало (только 14 наблюдений), что может негативно сказаться на точности дальнейшего, тем более долгосрочного, прогноза. Если у нас имеются данные о насыщении рынка, предполагаемое значение максимально возможного количества заказов или данные о внешних событиях, которые могут существенно повлиять на заказы, то стоит сделать на это поправку и ограничить верхнюю границу прогноза."
   ]
  },
  {
   "cell_type": "markdown",
   "id": "865e693d",
   "metadata": {},
   "source": [
    "## Prophet модель"
   ]
  },
  {
   "cell_type": "markdown",
   "id": "ee529ce5",
   "metadata": {},
   "source": [
    "Для сравнения построим предсказательную модель с помощью библиотеки Prophet"
   ]
  },
  {
   "cell_type": "code",
   "execution_count": 35,
   "id": "5e3fec8c",
   "metadata": {},
   "outputs": [],
   "source": [
    "from fbprophet import Prophet\n",
    "import holidays\n",
    "from plotly.offline import download_plotlyjs, init_notebook_mode, plot, iplot\n",
    "import plotly.graph_objs as go"
   ]
  },
  {
   "cell_type": "markdown",
   "id": "5dd99026",
   "metadata": {},
   "source": [
    "Загрузка и предобработка данных"
   ]
  },
  {
   "cell_type": "code",
   "execution_count": 36,
   "id": "ddf042d4",
   "metadata": {},
   "outputs": [],
   "source": [
    "df = pd.read_csv('https://stepik.org/media/attachments/lesson/426638/test2_completed.csv')"
   ]
  },
  {
   "cell_type": "code",
   "execution_count": 37,
   "id": "ff60fe8c",
   "metadata": {},
   "outputs": [],
   "source": [
    "df.rename(columns={'Дата': 'ds', 'Число заказов': 'y'}, inplace=True)"
   ]
  },
  {
   "cell_type": "code",
   "execution_count": 38,
   "id": "40733dc1",
   "metadata": {},
   "outputs": [],
   "source": [
    "df.ds = pd.to_datetime(df.ds)"
   ]
  },
  {
   "cell_type": "code",
   "execution_count": 39,
   "id": "c43d5133",
   "metadata": {},
   "outputs": [
    {
     "data": {
      "text/html": [
       "<div>\n",
       "<style scoped>\n",
       "    .dataframe tbody tr th:only-of-type {\n",
       "        vertical-align: middle;\n",
       "    }\n",
       "\n",
       "    .dataframe tbody tr th {\n",
       "        vertical-align: top;\n",
       "    }\n",
       "\n",
       "    .dataframe thead th {\n",
       "        text-align: right;\n",
       "    }\n",
       "</style>\n",
       "<table border=\"1\" class=\"dataframe\">\n",
       "  <thead>\n",
       "    <tr style=\"text-align: right;\">\n",
       "      <th></th>\n",
       "      <th>ds</th>\n",
       "      <th>y</th>\n",
       "    </tr>\n",
       "  </thead>\n",
       "  <tbody>\n",
       "    <tr>\n",
       "      <th>0</th>\n",
       "      <td>2020-01-05</td>\n",
       "      <td>650</td>\n",
       "    </tr>\n",
       "    <tr>\n",
       "      <th>1</th>\n",
       "      <td>2020-01-12</td>\n",
       "      <td>837</td>\n",
       "    </tr>\n",
       "    <tr>\n",
       "      <th>2</th>\n",
       "      <td>2020-01-19</td>\n",
       "      <td>1020</td>\n",
       "    </tr>\n",
       "    <tr>\n",
       "      <th>3</th>\n",
       "      <td>2020-01-26</td>\n",
       "      <td>1176</td>\n",
       "    </tr>\n",
       "    <tr>\n",
       "      <th>4</th>\n",
       "      <td>2020-02-02</td>\n",
       "      <td>1489</td>\n",
       "    </tr>\n",
       "    <tr>\n",
       "      <th>5</th>\n",
       "      <td>2020-02-09</td>\n",
       "      <td>1823</td>\n",
       "    </tr>\n",
       "    <tr>\n",
       "      <th>6</th>\n",
       "      <td>2020-02-16</td>\n",
       "      <td>1991</td>\n",
       "    </tr>\n",
       "    <tr>\n",
       "      <th>7</th>\n",
       "      <td>2020-02-23</td>\n",
       "      <td>2166</td>\n",
       "    </tr>\n",
       "    <tr>\n",
       "      <th>8</th>\n",
       "      <td>2020-03-01</td>\n",
       "      <td>2334</td>\n",
       "    </tr>\n",
       "    <tr>\n",
       "      <th>9</th>\n",
       "      <td>2020-03-08</td>\n",
       "      <td>2607</td>\n",
       "    </tr>\n",
       "    <tr>\n",
       "      <th>10</th>\n",
       "      <td>2020-03-15</td>\n",
       "      <td>2734</td>\n",
       "    </tr>\n",
       "    <tr>\n",
       "      <th>11</th>\n",
       "      <td>2020-03-22</td>\n",
       "      <td>3492</td>\n",
       "    </tr>\n",
       "    <tr>\n",
       "      <th>12</th>\n",
       "      <td>2020-03-29</td>\n",
       "      <td>3608</td>\n",
       "    </tr>\n",
       "    <tr>\n",
       "      <th>13</th>\n",
       "      <td>2020-04-05</td>\n",
       "      <td>3857</td>\n",
       "    </tr>\n",
       "  </tbody>\n",
       "</table>\n",
       "</div>"
      ],
      "text/plain": [
       "           ds     y\n",
       "0  2020-01-05   650\n",
       "1  2020-01-12   837\n",
       "2  2020-01-19  1020\n",
       "3  2020-01-26  1176\n",
       "4  2020-02-02  1489\n",
       "5  2020-02-09  1823\n",
       "6  2020-02-16  1991\n",
       "7  2020-02-23  2166\n",
       "8  2020-03-01  2334\n",
       "9  2020-03-08  2607\n",
       "10 2020-03-15  2734\n",
       "11 2020-03-22  3492\n",
       "12 2020-03-29  3608\n",
       "13 2020-04-05  3857"
      ]
     },
     "execution_count": 39,
     "metadata": {},
     "output_type": "execute_result"
    }
   ],
   "source": [
    "df"
   ]
  },
  {
   "cell_type": "markdown",
   "id": "531b5f9d",
   "metadata": {},
   "source": [
    "Вносим поправку в данные о заказах с учётом того, что в неделю с 2020-02-02 по 2020-02-09 была проведена массивная акция, повысившая число заказов на 7%"
   ]
  },
  {
   "cell_type": "code",
   "execution_count": 40,
   "id": "13aa3a76",
   "metadata": {},
   "outputs": [
    {
     "data": {
      "text/html": [
       "<div>\n",
       "<style scoped>\n",
       "    .dataframe tbody tr th:only-of-type {\n",
       "        vertical-align: middle;\n",
       "    }\n",
       "\n",
       "    .dataframe tbody tr th {\n",
       "        vertical-align: top;\n",
       "    }\n",
       "\n",
       "    .dataframe thead th {\n",
       "        text-align: right;\n",
       "    }\n",
       "</style>\n",
       "<table border=\"1\" class=\"dataframe\">\n",
       "  <thead>\n",
       "    <tr style=\"text-align: right;\">\n",
       "      <th></th>\n",
       "      <th>ds</th>\n",
       "      <th>y</th>\n",
       "    </tr>\n",
       "  </thead>\n",
       "  <tbody>\n",
       "    <tr>\n",
       "      <th>0</th>\n",
       "      <td>2020-01-05</td>\n",
       "      <td>650</td>\n",
       "    </tr>\n",
       "    <tr>\n",
       "      <th>1</th>\n",
       "      <td>2020-01-12</td>\n",
       "      <td>837</td>\n",
       "    </tr>\n",
       "    <tr>\n",
       "      <th>2</th>\n",
       "      <td>2020-01-19</td>\n",
       "      <td>1020</td>\n",
       "    </tr>\n",
       "    <tr>\n",
       "      <th>3</th>\n",
       "      <td>2020-01-26</td>\n",
       "      <td>1176</td>\n",
       "    </tr>\n",
       "    <tr>\n",
       "      <th>4</th>\n",
       "      <td>2020-02-02</td>\n",
       "      <td>1392</td>\n",
       "    </tr>\n",
       "    <tr>\n",
       "      <th>5</th>\n",
       "      <td>2020-02-09</td>\n",
       "      <td>1823</td>\n",
       "    </tr>\n",
       "    <tr>\n",
       "      <th>6</th>\n",
       "      <td>2020-02-16</td>\n",
       "      <td>1991</td>\n",
       "    </tr>\n",
       "    <tr>\n",
       "      <th>7</th>\n",
       "      <td>2020-02-23</td>\n",
       "      <td>2166</td>\n",
       "    </tr>\n",
       "    <tr>\n",
       "      <th>8</th>\n",
       "      <td>2020-03-01</td>\n",
       "      <td>2334</td>\n",
       "    </tr>\n",
       "    <tr>\n",
       "      <th>9</th>\n",
       "      <td>2020-03-08</td>\n",
       "      <td>2607</td>\n",
       "    </tr>\n",
       "    <tr>\n",
       "      <th>10</th>\n",
       "      <td>2020-03-15</td>\n",
       "      <td>2734</td>\n",
       "    </tr>\n",
       "    <tr>\n",
       "      <th>11</th>\n",
       "      <td>2020-03-22</td>\n",
       "      <td>3492</td>\n",
       "    </tr>\n",
       "    <tr>\n",
       "      <th>12</th>\n",
       "      <td>2020-03-29</td>\n",
       "      <td>3608</td>\n",
       "    </tr>\n",
       "    <tr>\n",
       "      <th>13</th>\n",
       "      <td>2020-04-05</td>\n",
       "      <td>3857</td>\n",
       "    </tr>\n",
       "  </tbody>\n",
       "</table>\n",
       "</div>"
      ],
      "text/plain": [
       "           ds     y\n",
       "0  2020-01-05   650\n",
       "1  2020-01-12   837\n",
       "2  2020-01-19  1020\n",
       "3  2020-01-26  1176\n",
       "4  2020-02-02  1392\n",
       "5  2020-02-09  1823\n",
       "6  2020-02-16  1991\n",
       "7  2020-02-23  2166\n",
       "8  2020-03-01  2334\n",
       "9  2020-03-08  2607\n",
       "10 2020-03-15  2734\n",
       "11 2020-03-22  3492\n",
       "12 2020-03-29  3608\n",
       "13 2020-04-05  3857"
      ]
     },
     "execution_count": 40,
     "metadata": {},
     "output_type": "execute_result"
    }
   ],
   "source": [
    "adj_y = df[df['ds'] == pd.to_datetime('2020-02-02')].y.div(1.07).round().astype(int)\n",
    "df.loc[df['ds'] == pd.to_datetime('2020-02-02'), 'y'] = adj_y\n",
    "df"
   ]
  },
  {
   "cell_type": "code",
   "execution_count": 41,
   "id": "a0409e49",
   "metadata": {},
   "outputs": [
    {
     "data": {
      "text/plain": [
       "ds    datetime64[ns]\n",
       "y              int64\n",
       "dtype: object"
      ]
     },
     "execution_count": 41,
     "metadata": {},
     "output_type": "execute_result"
    }
   ],
   "source": [
    "df.dtypes"
   ]
  },
  {
   "cell_type": "code",
   "execution_count": 42,
   "id": "2560b10e",
   "metadata": {},
   "outputs": [
    {
     "data": {
      "text/html": [
       "<div>\n",
       "<style scoped>\n",
       "    .dataframe tbody tr th:only-of-type {\n",
       "        vertical-align: middle;\n",
       "    }\n",
       "\n",
       "    .dataframe tbody tr th {\n",
       "        vertical-align: top;\n",
       "    }\n",
       "\n",
       "    .dataframe thead th {\n",
       "        text-align: right;\n",
       "    }\n",
       "</style>\n",
       "<table border=\"1\" class=\"dataframe\">\n",
       "  <thead>\n",
       "    <tr style=\"text-align: right;\">\n",
       "      <th></th>\n",
       "      <th>ds</th>\n",
       "      <th>holiday</th>\n",
       "    </tr>\n",
       "  </thead>\n",
       "  <tbody>\n",
       "    <tr>\n",
       "      <th>0</th>\n",
       "      <td>2020-01-01</td>\n",
       "      <td>Новый год</td>\n",
       "    </tr>\n",
       "    <tr>\n",
       "      <th>1</th>\n",
       "      <td>2020-01-02</td>\n",
       "      <td>Новый год</td>\n",
       "    </tr>\n",
       "    <tr>\n",
       "      <th>2</th>\n",
       "      <td>2020-01-03</td>\n",
       "      <td>Новый год</td>\n",
       "    </tr>\n",
       "    <tr>\n",
       "      <th>3</th>\n",
       "      <td>2020-01-04</td>\n",
       "      <td>Новый год</td>\n",
       "    </tr>\n",
       "    <tr>\n",
       "      <th>4</th>\n",
       "      <td>2020-01-05</td>\n",
       "      <td>Новый год</td>\n",
       "    </tr>\n",
       "    <tr>\n",
       "      <th>5</th>\n",
       "      <td>2020-01-06</td>\n",
       "      <td>Новый год</td>\n",
       "    </tr>\n",
       "    <tr>\n",
       "      <th>6</th>\n",
       "      <td>2020-01-07</td>\n",
       "      <td>Православное Рождество</td>\n",
       "    </tr>\n",
       "    <tr>\n",
       "      <th>7</th>\n",
       "      <td>2020-01-08</td>\n",
       "      <td>Новый год</td>\n",
       "    </tr>\n",
       "    <tr>\n",
       "      <th>8</th>\n",
       "      <td>2020-02-23</td>\n",
       "      <td>День защитника отечества</td>\n",
       "    </tr>\n",
       "    <tr>\n",
       "      <th>9</th>\n",
       "      <td>2020-03-08</td>\n",
       "      <td>День женщин</td>\n",
       "    </tr>\n",
       "    <tr>\n",
       "      <th>10</th>\n",
       "      <td>2020-05-01</td>\n",
       "      <td>Праздник Весны и Труда</td>\n",
       "    </tr>\n",
       "    <tr>\n",
       "      <th>11</th>\n",
       "      <td>2020-05-09</td>\n",
       "      <td>День Победы</td>\n",
       "    </tr>\n",
       "    <tr>\n",
       "      <th>12</th>\n",
       "      <td>2020-06-12</td>\n",
       "      <td>День России</td>\n",
       "    </tr>\n",
       "    <tr>\n",
       "      <th>13</th>\n",
       "      <td>2020-11-04</td>\n",
       "      <td>День народного единства</td>\n",
       "    </tr>\n",
       "  </tbody>\n",
       "</table>\n",
       "</div>"
      ],
      "text/plain": [
       "           ds                   holiday\n",
       "0  2020-01-01                 Новый год\n",
       "1  2020-01-02                 Новый год\n",
       "2  2020-01-03                 Новый год\n",
       "3  2020-01-04                 Новый год\n",
       "4  2020-01-05                 Новый год\n",
       "5  2020-01-06                 Новый год\n",
       "6  2020-01-07    Православное Рождество\n",
       "7  2020-01-08                 Новый год\n",
       "8  2020-02-23  День защитника отечества\n",
       "9  2020-03-08               День женщин\n",
       "10 2020-05-01    Праздник Весны и Труда\n",
       "11 2020-05-09               День Победы\n",
       "12 2020-06-12               День России\n",
       "13 2020-11-04   День народного единства"
      ]
     },
     "execution_count": 42,
     "metadata": {},
     "output_type": "execute_result"
    }
   ],
   "source": [
    "# Составляем датафрейм с праздниками, для их учёта моделью\n",
    "holidays_dict = holidays.RU(years=(2020))\n",
    "df_holidays = pd.DataFrame.from_dict(holidays_dict, orient='index') \\\n",
    "    .reset_index()\n",
    "df_holidays = df_holidays.rename({'index':'ds', 0:'holiday'}, axis ='columns')\n",
    "df_holidays['ds'] = pd.to_datetime(df_holidays.ds)\n",
    "df_holidays = df_holidays.sort_values(by=['ds'])\n",
    "df_holidays = df_holidays.reset_index(drop=True)\n",
    "df_holidays"
   ]
  },
  {
   "cell_type": "markdown",
   "id": "36eebc1f",
   "metadata": {},
   "source": [
    "Настраиваем prophet – говорим ему учитывать праздники и сезонности:"
   ]
  },
  {
   "cell_type": "code",
   "execution_count": 43,
   "id": "42cde794",
   "metadata": {},
   "outputs": [
    {
     "name": "stderr",
     "output_type": "stream",
     "text": [
      "INFO:fbprophet:n_changepoints greater than number of observations. Using 10.\n"
     ]
    },
    {
     "data": {
      "text/plain": [
       "<fbprophet.forecaster.Prophet at 0x20a880770d0>"
      ]
     },
     "execution_count": 43,
     "metadata": {},
     "output_type": "execute_result"
    }
   ],
   "source": [
    "m = Prophet(holidays=df_holidays, daily_seasonality=False, weekly_seasonality=False, yearly_seasonality=False)\n",
    "m.fit(df)"
   ]
  },
  {
   "cell_type": "markdown",
   "id": "d2338288",
   "metadata": {},
   "source": [
    "Строим прогноз на 3 месяца (14 недель):"
   ]
  },
  {
   "cell_type": "code",
   "execution_count": 44,
   "id": "b46f4f8d",
   "metadata": {},
   "outputs": [],
   "source": [
    "predictions = 14\n",
    "future = m.make_future_dataframe(periods=predictions, freq='W')\n",
    "forecast = m.predict(future)"
   ]
  },
  {
   "cell_type": "code",
   "execution_count": 45,
   "id": "54ed9384",
   "metadata": {},
   "outputs": [
    {
     "data": {
      "image/png": "[encoded data removed]",
      "text/plain": [
       "<Figure size 720x432 with 1 Axes>"
      ]
     },
     "metadata": {},
     "output_type": "display_data"
    }
   ],
   "source": [
    "# Смотрим, что предсказалось\n",
    "m.plot(forecast);"
   ]
  },
  {
   "cell_type": "code",
   "execution_count": 46,
   "id": "0cc28a23",
   "metadata": {},
   "outputs": [
    {
     "data": {
      "image/png": "[encoded data removed]",
      "text/plain": [
       "<Figure size 648x432 with 2 Axes>"
      ]
     },
     "metadata": {},
     "output_type": "display_data"
    }
   ],
   "source": [
    "# Смотрим на сезонности\n",
    "m.plot_components(forecast);"
   ]
  },
  {
   "cell_type": "markdown",
   "id": "860bf800",
   "metadata": {},
   "source": [
    "Рисуем график с границами прогноза:"
   ]
  },
  {
   "cell_type": "code",
   "execution_count": 47,
   "id": "39d844d1",
   "metadata": {},
   "outputs": [
    {
     "data": {
      "text/html": [
       "        <script type=\"text/javascript\">\n",
       "        window.PlotlyConfig = {MathJaxConfig: 'local'};\n",
       "        if (window.MathJax) {MathJax.Hub.Config({SVG: {font: \"STIX-Web\"}});}\n",
       "        if (typeof require !== 'undefined') {\n",
       "        require.undef(\"plotly\");\n",
       "        requirejs.config({\n",
       "            paths: {\n",
       "                'plotly': ['https://cdn.plot.ly/plotly-2.2.0.min']\n",
       "            }\n",
       "        });\n",
       "        require(['plotly'], function(Plotly) {\n",
       "            window._Plotly = Plotly;\n",
       "        });\n",
       "        }\n",
       "        </script>\n",
       "        "
      ]
     },
     "metadata": {},
     "output_type": "display_data"
    },
    {
     "data": {
      "application/vnd.plotly.v1+json": {
       "config": {
        "linkText": "Export to plot.ly",
        "plotlyServerURL": "https://plot.ly",
        "showLink": false
       },
       "data": [
        {
         "name": "fact",
         "type": "scatter",
         "x": [
          "2020-01-05T00:00:00",
          "2020-01-12T00:00:00",
          "2020-01-19T00:00:00",
          "2020-01-26T00:00:00",
          "2020-02-02T00:00:00",
          "2020-02-09T00:00:00",
          "2020-02-16T00:00:00",
          "2020-02-23T00:00:00",
          "2020-03-01T00:00:00",
          "2020-03-08T00:00:00",
          "2020-03-15T00:00:00",
          "2020-03-22T00:00:00",
          "2020-03-29T00:00:00",
          "2020-04-05T00:00:00"
         ],
         "y": [
          650,
          837,
          1020,
          1176,
          1392,
          1823,
          1991,
          2166,
          2334,
          2607,
          2734,
          3492,
          3608,
          3857
         ]
        },
        {
         "name": "prediction",
         "type": "scatter",
         "x": [
          "2020-01-05T00:00:00",
          "2020-01-12T00:00:00",
          "2020-01-19T00:00:00",
          "2020-01-26T00:00:00",
          "2020-02-02T00:00:00",
          "2020-02-09T00:00:00",
          "2020-02-16T00:00:00",
          "2020-02-23T00:00:00",
          "2020-03-01T00:00:00",
          "2020-03-08T00:00:00",
          "2020-03-15T00:00:00",
          "2020-03-22T00:00:00",
          "2020-03-29T00:00:00",
          "2020-04-05T00:00:00",
          "2020-04-12T00:00:00",
          "2020-04-19T00:00:00",
          "2020-04-26T00:00:00",
          "2020-05-03T00:00:00",
          "2020-05-10T00:00:00",
          "2020-05-17T00:00:00",
          "2020-05-24T00:00:00",
          "2020-05-31T00:00:00",
          "2020-06-07T00:00:00",
          "2020-06-14T00:00:00",
          "2020-06-21T00:00:00",
          "2020-06-28T00:00:00",
          "2020-07-05T00:00:00",
          "2020-07-12T00:00:00"
         ],
         "y": [
          650.3572238164226,
          716.817936348,
          972.7469873380311,
          1228.6760385393177,
          1484.605090027579,
          1740.5341418141493,
          1996.4631938331154,
          2165.9085699375996,
          2508.321299420136,
          2606.796914748802,
          3020.216531331842,
          3276.1748888155253,
          3532.1332462992095,
          3788.0916037828933,
          4044.0499612665767,
          4300.0083187502605,
          4555.966676233946,
          4811.925033717629,
          5067.883391201312,
          5323.841748684996,
          5579.800106168682,
          5835.758463652365,
          6091.716821136049,
          6347.675178619732,
          6603.633536103416,
          6859.5918935871005,
          7115.550251070785,
          7371.508608554469
         ]
        },
        {
         "fill": "tonexty",
         "mode": "none",
         "name": "upper",
         "type": "scatter",
         "x": [
          "2020-01-05T00:00:00",
          "2020-01-12T00:00:00",
          "2020-01-19T00:00:00",
          "2020-01-26T00:00:00",
          "2020-02-02T00:00:00",
          "2020-02-09T00:00:00",
          "2020-02-16T00:00:00",
          "2020-02-23T00:00:00",
          "2020-03-01T00:00:00",
          "2020-03-08T00:00:00",
          "2020-03-15T00:00:00",
          "2020-03-22T00:00:00",
          "2020-03-29T00:00:00",
          "2020-04-05T00:00:00",
          "2020-04-12T00:00:00",
          "2020-04-19T00:00:00",
          "2020-04-26T00:00:00",
          "2020-05-03T00:00:00",
          "2020-05-10T00:00:00",
          "2020-05-17T00:00:00",
          "2020-05-24T00:00:00",
          "2020-05-31T00:00:00",
          "2020-06-07T00:00:00",
          "2020-06-14T00:00:00",
          "2020-06-21T00:00:00",
          "2020-06-28T00:00:00",
          "2020-07-05T00:00:00",
          "2020-07-12T00:00:00"
         ],
         "y": [
          820.198285631263,
          868.7020176978062,
          1129.8381634883372,
          1382.6894943230238,
          1631.2087274637727,
          1889.003081675263,
          2157.124861168106,
          2328.32031576249,
          2663.8101450744107,
          2746.565167201378,
          3178.152667781076,
          3422.745203539706,
          3686.8894728333166,
          3927.763724613401,
          4211.26102818797,
          4459.666640024007,
          4702.088358890341,
          4957.439725984966,
          5214.411070738765,
          5489.1600070726345,
          5732.292866145501,
          5977.545221849022,
          6235.206419766663,
          6493.926366354652,
          6758.786039084437,
          7013.9132359530195,
          7263.265330846333,
          7516.728769472049
         ]
        },
        {
         "fill": "tonexty",
         "mode": "none",
         "name": "lower",
         "type": "scatter",
         "x": [
          "2020-01-05T00:00:00",
          "2020-01-12T00:00:00",
          "2020-01-19T00:00:00",
          "2020-01-26T00:00:00",
          "2020-02-02T00:00:00",
          "2020-02-09T00:00:00",
          "2020-02-16T00:00:00",
          "2020-02-23T00:00:00",
          "2020-03-01T00:00:00",
          "2020-03-08T00:00:00",
          "2020-03-15T00:00:00",
          "2020-03-22T00:00:00",
          "2020-03-29T00:00:00",
          "2020-04-05T00:00:00",
          "2020-04-12T00:00:00",
          "2020-04-19T00:00:00",
          "2020-04-26T00:00:00",
          "2020-05-03T00:00:00",
          "2020-05-10T00:00:00",
          "2020-05-17T00:00:00",
          "2020-05-24T00:00:00",
          "2020-05-31T00:00:00",
          "2020-06-07T00:00:00",
          "2020-06-14T00:00:00",
          "2020-06-21T00:00:00",
          "2020-06-28T00:00:00",
          "2020-07-05T00:00:00",
          "2020-07-12T00:00:00"
         ],
         "y": [
          494.62756620113817,
          565.444158950598,
          810.271552008438,
          1079.562097087843,
          1343.7632371447028,
          1590.8821469571067,
          1831.277386446252,
          2019.0996972009634,
          2364.3740367819455,
          2441.346502936821,
          2863.8343863015243,
          3121.512613842203,
          3376.872535964809,
          3637.7851549055626,
          3885.814336587723,
          4143.8645524630365,
          4412.680843242615,
          4655.451227526273,
          4904.755204387053,
          5176.41444116307,
          5426.624738788843,
          5679.13360821518,
          5927.633764708529,
          6202.35583435429,
          6452.491586784808,
          6702.691804979057,
          6966.546395059387,
          7213.3432766789
         ]
        }
       ],
       "layout": {
        "template": {
         "data": {
          "bar": [
           {
            "error_x": {
             "color": "#2a3f5f"
            },
            "error_y": {
             "color": "#2a3f5f"
            },
            "marker": {
             "line": {
              "color": "#E5ECF6",
              "width": 0.5
             },
             "pattern": {
              "fillmode": "overlay",
              "size": 10,
              "solidity": 0.2
             }
            },
            "type": "bar"
           }
          ],
          "barpolar": [
           {
            "marker": {
             "line": {
              "color": "#E5ECF6",
              "width": 0.5
             },
             "pattern": {
              "fillmode": "overlay",
              "size": 10,
              "solidity": 0.2
             }
            },
            "type": "barpolar"
           }
          ],
          "carpet": [
           {
            "aaxis": {
             "endlinecolor": "#2a3f5f",
             "gridcolor": "white",
             "linecolor": "white",
             "minorgridcolor": "white",
             "startlinecolor": "#2a3f5f"
            },
            "baxis": {
             "endlinecolor": "#2a3f5f",
             "gridcolor": "white",
             "linecolor": "white",
             "minorgridcolor": "white",
             "startlinecolor": "#2a3f5f"
            },
            "type": "carpet"
           }
          ],
          "choropleth": [
           {
            "colorbar": {
             "outlinewidth": 0,
             "ticks": ""
            },
            "type": "choropleth"
           }
          ],
          "contour": [
           {
            "colorbar": {
             "outlinewidth": 0,
             "ticks": ""
            },
            "colorscale": [
             [
              0,
              "#0d0887"
             ],
             [
              0.1111111111111111,
              "#46039f"
             ],
             [
              0.2222222222222222,
              "#7201a8"
             ],
             [
              0.3333333333333333,
              "#9c179e"
             ],
             [
              0.4444444444444444,
              "#bd3786"
             ],
             [
              0.5555555555555556,
              "#d8576b"
             ],
             [
              0.6666666666666666,
              "#ed7953"
             ],
             [
              0.7777777777777778,
              "#fb9f3a"
             ],
             [
              0.8888888888888888,
              "#fdca26"
             ],
             [
              1,
              "#f0f921"
             ]
            ],
            "type": "contour"
           }
          ],
          "contourcarpet": [
           {
            "colorbar": {
             "outlinewidth": 0,
             "ticks": ""
            },
            "type": "contourcarpet"
           }
          ],
          "heatmap": [
           {
            "colorbar": {
             "outlinewidth": 0,
             "ticks": ""
            },
            "colorscale": [
             [
              0,
              "#0d0887"
             ],
             [
              0.1111111111111111,
              "#46039f"
             ],
             [
              0.2222222222222222,
              "#7201a8"
             ],
             [
              0.3333333333333333,
              "#9c179e"
             ],
             [
              0.4444444444444444,
              "#bd3786"
             ],
             [
              0.5555555555555556,
              "#d8576b"
             ],
             [
              0.6666666666666666,
              "#ed7953"
             ],
             [
              0.7777777777777778,
              "#fb9f3a"
             ],
             [
              0.8888888888888888,
              "#fdca26"
             ],
             [
              1,
              "#f0f921"
             ]
            ],
            "type": "heatmap"
           }
          ],
          "heatmapgl": [
           {
            "colorbar": {
             "outlinewidth": 0,
             "ticks": ""
            },
            "colorscale": [
             [
              0,
              "#0d0887"
             ],
             [
              0.1111111111111111,
              "#46039f"
             ],
             [
              0.2222222222222222,
              "#7201a8"
             ],
             [
              0.3333333333333333,
              "#9c179e"
             ],
             [
              0.4444444444444444,
              "#bd3786"
             ],
             [
              0.5555555555555556,
              "#d8576b"
             ],
             [
              0.6666666666666666,
              "#ed7953"
             ],
             [
              0.7777777777777778,
              "#fb9f3a"
             ],
             [
              0.8888888888888888,
              "#fdca26"
             ],
             [
              1,
              "#f0f921"
             ]
            ],
            "type": "heatmapgl"
           }
          ],
          "histogram": [
           {
            "marker": {
             "pattern": {
              "fillmode": "overlay",
              "size": 10,
              "solidity": 0.2
             }
            },
            "type": "histogram"
           }
          ],
          "histogram2d": [
           {
            "colorbar": {
             "outlinewidth": 0,
             "ticks": ""
            },
            "colorscale": [
             [
              0,
              "#0d0887"
             ],
             [
              0.1111111111111111,
              "#46039f"
             ],
             [
              0.2222222222222222,
              "#7201a8"
             ],
             [
              0.3333333333333333,
              "#9c179e"
             ],
             [
              0.4444444444444444,
              "#bd3786"
             ],
             [
              0.5555555555555556,
              "#d8576b"
             ],
             [
              0.6666666666666666,
              "#ed7953"
             ],
             [
              0.7777777777777778,
              "#fb9f3a"
             ],
             [
              0.8888888888888888,
              "#fdca26"
             ],
             [
              1,
              "#f0f921"
             ]
            ],
            "type": "histogram2d"
           }
          ],
          "histogram2dcontour": [
           {
            "colorbar": {
             "outlinewidth": 0,
             "ticks": ""
            },
            "colorscale": [
             [
              0,
              "#0d0887"
             ],
             [
              0.1111111111111111,
              "#46039f"
             ],
             [
              0.2222222222222222,
              "#7201a8"
             ],
             [
              0.3333333333333333,
              "#9c179e"
             ],
             [
              0.4444444444444444,
              "#bd3786"
             ],
             [
              0.5555555555555556,
              "#d8576b"
             ],
             [
              0.6666666666666666,
              "#ed7953"
             ],
             [
              0.7777777777777778,
              "#fb9f3a"
             ],
             [
              0.8888888888888888,
              "#fdca26"
             ],
             [
              1,
              "#f0f921"
             ]
            ],
            "type": "histogram2dcontour"
           }
          ],
          "mesh3d": [
           {
            "colorbar": {
             "outlinewidth": 0,
             "ticks": ""
            },
            "type": "mesh3d"
           }
          ],
          "parcoords": [
           {
            "line": {
             "colorbar": {
              "outlinewidth": 0,
              "ticks": ""
             }
            },
            "type": "parcoords"
           }
          ],
          "pie": [
           {
            "automargin": true,
            "type": "pie"
           }
          ],
          "scatter": [
           {
            "marker": {
             "colorbar": {
              "outlinewidth": 0,
              "ticks": ""
             }
            },
            "type": "scatter"
           }
          ],
          "scatter3d": [
           {
            "line": {
             "colorbar": {
              "outlinewidth": 0,
              "ticks": ""
             }
            },
            "marker": {
             "colorbar": {
              "outlinewidth": 0,
              "ticks": ""
             }
            },
            "type": "scatter3d"
           }
          ],
          "scattercarpet": [
           {
            "marker": {
             "colorbar": {
              "outlinewidth": 0,
              "ticks": ""
             }
            },
            "type": "scattercarpet"
           }
          ],
          "scattergeo": [
           {
            "marker": {
             "colorbar": {
              "outlinewidth": 0,
              "ticks": ""
             }
            },
            "type": "scattergeo"
           }
          ],
          "scattergl": [
           {
            "marker": {
             "colorbar": {
              "outlinewidth": 0,
              "ticks": ""
             }
            },
            "type": "scattergl"
           }
          ],
          "scattermapbox": [
           {
            "marker": {
             "colorbar": {
              "outlinewidth": 0,
              "ticks": ""
             }
            },
            "type": "scattermapbox"
           }
          ],
          "scatterpolar": [
           {
            "marker": {
             "colorbar": {
              "outlinewidth": 0,
              "ticks": ""
             }
            },
            "type": "scatterpolar"
           }
          ],
          "scatterpolargl": [
           {
            "marker": {
             "colorbar": {
              "outlinewidth": 0,
              "ticks": ""
             }
            },
            "type": "scatterpolargl"
           }
          ],
          "scatterternary": [
           {
            "marker": {
             "colorbar": {
              "outlinewidth": 0,
              "ticks": ""
             }
            },
            "type": "scatterternary"
           }
          ],
          "surface": [
           {
            "colorbar": {
             "outlinewidth": 0,
             "ticks": ""
            },
            "colorscale": [
             [
              0,
              "#0d0887"
             ],
             [
              0.1111111111111111,
              "#46039f"
             ],
             [
              0.2222222222222222,
              "#7201a8"
             ],
             [
              0.3333333333333333,
              "#9c179e"
             ],
             [
              0.4444444444444444,
              "#bd3786"
             ],
             [
              0.5555555555555556,
              "#d8576b"
             ],
             [
              0.6666666666666666,
              "#ed7953"
             ],
             [
              0.7777777777777778,
              "#fb9f3a"
             ],
             [
              0.8888888888888888,
              "#fdca26"
             ],
             [
              1,
              "#f0f921"
             ]
            ],
            "type": "surface"
           }
          ],
          "table": [
           {
            "cells": {
             "fill": {
              "color": "#EBF0F8"
             },
             "line": {
              "color": "white"
             }
            },
            "header": {
             "fill": {
              "color": "#C8D4E3"
             },
             "line": {
              "color": "white"
             }
            },
            "type": "table"
           }
          ]
         },
         "layout": {
          "annotationdefaults": {
           "arrowcolor": "#2a3f5f",
           "arrowhead": 0,
           "arrowwidth": 1
          },
          "autotypenumbers": "strict",
          "coloraxis": {
           "colorbar": {
            "outlinewidth": 0,
            "ticks": ""
           }
          },
          "colorscale": {
           "diverging": [
            [
             0,
             "#8e0152"
            ],
            [
             0.1,
             "#c51b7d"
            ],
            [
             0.2,
             "#de77ae"
            ],
            [
             0.3,
             "#f1b6da"
            ],
            [
             0.4,
             "#fde0ef"
            ],
            [
             0.5,
             "#f7f7f7"
            ],
            [
             0.6,
             "#e6f5d0"
            ],
            [
             0.7,
             "#b8e186"
            ],
            [
             0.8,
             "#7fbc41"
            ],
            [
             0.9,
             "#4d9221"
            ],
            [
             1,
             "#276419"
            ]
           ],
           "sequential": [
            [
             0,
             "#0d0887"
            ],
            [
             0.1111111111111111,
             "#46039f"
            ],
            [
             0.2222222222222222,
             "#7201a8"
            ],
            [
             0.3333333333333333,
             "#9c179e"
            ],
            [
             0.4444444444444444,
             "#bd3786"
            ],
            [
             0.5555555555555556,
             "#d8576b"
            ],
            [
             0.6666666666666666,
             "#ed7953"
            ],
            [
             0.7777777777777778,
             "#fb9f3a"
            ],
            [
             0.8888888888888888,
             "#fdca26"
            ],
            [
             1,
             "#f0f921"
            ]
           ],
           "sequentialminus": [
            [
             0,
             "#0d0887"
            ],
            [
             0.1111111111111111,
             "#46039f"
            ],
            [
             0.2222222222222222,
             "#7201a8"
            ],
            [
             0.3333333333333333,
             "#9c179e"
            ],
            [
             0.4444444444444444,
             "#bd3786"
            ],
            [
             0.5555555555555556,
             "#d8576b"
            ],
            [
             0.6666666666666666,
             "#ed7953"
            ],
            [
             0.7777777777777778,
             "#fb9f3a"
            ],
            [
             0.8888888888888888,
             "#fdca26"
            ],
            [
             1,
             "#f0f921"
            ]
           ]
          },
          "colorway": [
           "#636efa",
           "#EF553B",
           "#00cc96",
           "#ab63fa",
           "#FFA15A",
           "#19d3f3",
           "#FF6692",
           "#B6E880",
           "#FF97FF",
           "#FECB52"
          ],
          "font": {
           "color": "#2a3f5f"
          },
          "geo": {
           "bgcolor": "white",
           "lakecolor": "white",
           "landcolor": "#E5ECF6",
           "showlakes": true,
           "showland": true,
           "subunitcolor": "white"
          },
          "hoverlabel": {
           "align": "left"
          },
          "hovermode": "closest",
          "mapbox": {
           "style": "light"
          },
          "paper_bgcolor": "white",
          "plot_bgcolor": "#E5ECF6",
          "polar": {
           "angularaxis": {
            "gridcolor": "white",
            "linecolor": "white",
            "ticks": ""
           },
           "bgcolor": "#E5ECF6",
           "radialaxis": {
            "gridcolor": "white",
            "linecolor": "white",
            "ticks": ""
           }
          },
          "scene": {
           "xaxis": {
            "backgroundcolor": "#E5ECF6",
            "gridcolor": "white",
            "gridwidth": 2,
            "linecolor": "white",
            "showbackground": true,
            "ticks": "",
            "zerolinecolor": "white"
           },
           "yaxis": {
            "backgroundcolor": "#E5ECF6",
            "gridcolor": "white",
            "gridwidth": 2,
            "linecolor": "white",
            "showbackground": true,
            "ticks": "",
            "zerolinecolor": "white"
           },
           "zaxis": {
            "backgroundcolor": "#E5ECF6",
            "gridcolor": "white",
            "gridwidth": 2,
            "linecolor": "white",
            "showbackground": true,
            "ticks": "",
            "zerolinecolor": "white"
           }
          },
          "shapedefaults": {
           "line": {
            "color": "#2a3f5f"
           }
          },
          "ternary": {
           "aaxis": {
            "gridcolor": "white",
            "linecolor": "white",
            "ticks": ""
           },
           "baxis": {
            "gridcolor": "white",
            "linecolor": "white",
            "ticks": ""
           },
           "bgcolor": "#E5ECF6",
           "caxis": {
            "gridcolor": "white",
            "linecolor": "white",
            "ticks": ""
           }
          },
          "title": {
           "x": 0.05
          },
          "xaxis": {
           "automargin": true,
           "gridcolor": "white",
           "linecolor": "white",
           "ticks": "",
           "title": {
            "standoff": 15
           },
           "zerolinecolor": "white",
           "zerolinewidth": 2
          },
          "yaxis": {
           "automargin": true,
           "gridcolor": "white",
           "linecolor": "white",
           "ticks": "",
           "title": {
            "standoff": 15
           },
           "zerolinecolor": "white",
           "zerolinewidth": 2
          }
         }
        }
       }
      },
      "text/html": [
       "<div>                            <div id=\"3c79bd2c-955b-4210-8110-071ec9b00f09\" class=\"plotly-graph-div\" style=\"height:525px; width:100%;\"></div>            <script type=\"text/javascript\">                require([\"plotly\"], function(Plotly) {                    window.PLOTLYENV=window.PLOTLYENV || {};                                    if (document.getElementById(\"3c79bd2c-955b-4210-8110-071ec9b00f09\")) {                    Plotly.newPlot(                        \"3c79bd2c-955b-4210-8110-071ec9b00f09\",                        [{\"name\":\"fact\",\"type\":\"scatter\",\"x\":[\"2020-01-05T00:00:00\",\"2020-01-12T00:00:00\",\"2020-01-19T00:00:00\",\"2020-01-26T00:00:00\",\"2020-02-02T00:00:00\",\"2020-02-09T00:00:00\",\"2020-02-16T00:00:00\",\"2020-02-23T00:00:00\",\"2020-03-01T00:00:00\",\"2020-03-08T00:00:00\",\"2020-03-15T00:00:00\",\"2020-03-22T00:00:00\",\"2020-03-29T00:00:00\",\"2020-04-05T00:00:00\"],\"y\":[650,837,1020,1176,1392,1823,1991,2166,2334,2607,2734,3492,3608,3857]},{\"name\":\"prediction\",\"type\":\"scatter\",\"x\":[\"2020-01-05T00:00:00\",\"2020-01-12T00:00:00\",\"2020-01-19T00:00:00\",\"2020-01-26T00:00:00\",\"2020-02-02T00:00:00\",\"2020-02-09T00:00:00\",\"2020-02-16T00:00:00\",\"2020-02-23T00:00:00\",\"2020-03-01T00:00:00\",\"2020-03-08T00:00:00\",\"2020-03-15T00:00:00\",\"2020-03-22T00:00:00\",\"2020-03-29T00:00:00\",\"2020-04-05T00:00:00\",\"2020-04-12T00:00:00\",\"2020-04-19T00:00:00\",\"2020-04-26T00:00:00\",\"2020-05-03T00:00:00\",\"2020-05-10T00:00:00\",\"2020-05-17T00:00:00\",\"2020-05-24T00:00:00\",\"2020-05-31T00:00:00\",\"2020-06-07T00:00:00\",\"2020-06-14T00:00:00\",\"2020-06-21T00:00:00\",\"2020-06-28T00:00:00\",\"2020-07-05T00:00:00\",\"2020-07-12T00:00:00\"],\"y\":[650.3572238164226,716.817936348,972.7469873380311,1228.6760385393177,1484.605090027579,1740.5341418141493,1996.4631938331154,2165.9085699375996,2508.321299420136,2606.796914748802,3020.216531331842,3276.1748888155253,3532.1332462992095,3788.0916037828933,4044.0499612665767,4300.0083187502605,4555.966676233946,4811.925033717629,5067.883391201312,5323.841748684996,5579.800106168682,5835.758463652365,6091.716821136049,6347.675178619732,6603.633536103416,6859.5918935871005,7115.550251070785,7371.508608554469]},{\"fill\":\"tonexty\",\"mode\":\"none\",\"name\":\"upper\",\"type\":\"scatter\",\"x\":[\"2020-01-05T00:00:00\",\"2020-01-12T00:00:00\",\"2020-01-19T00:00:00\",\"2020-01-26T00:00:00\",\"2020-02-02T00:00:00\",\"2020-02-09T00:00:00\",\"2020-02-16T00:00:00\",\"2020-02-23T00:00:00\",\"2020-03-01T00:00:00\",\"2020-03-08T00:00:00\",\"2020-03-15T00:00:00\",\"2020-03-22T00:00:00\",\"2020-03-29T00:00:00\",\"2020-04-05T00:00:00\",\"2020-04-12T00:00:00\",\"2020-04-19T00:00:00\",\"2020-04-26T00:00:00\",\"2020-05-03T00:00:00\",\"2020-05-10T00:00:00\",\"2020-05-17T00:00:00\",\"2020-05-24T00:00:00\",\"2020-05-31T00:00:00\",\"2020-06-07T00:00:00\",\"2020-06-14T00:00:00\",\"2020-06-21T00:00:00\",\"2020-06-28T00:00:00\",\"2020-07-05T00:00:00\",\"2020-07-12T00:00:00\"],\"y\":[820.198285631263,868.7020176978062,1129.8381634883372,1382.6894943230238,1631.2087274637727,1889.003081675263,2157.124861168106,2328.32031576249,2663.8101450744107,2746.565167201378,3178.152667781076,3422.745203539706,3686.8894728333166,3927.763724613401,4211.26102818797,4459.666640024007,4702.088358890341,4957.439725984966,5214.411070738765,5489.1600070726345,5732.292866145501,5977.545221849022,6235.206419766663,6493.926366354652,6758.786039084437,7013.9132359530195,7263.265330846333,7516.728769472049]},{\"fill\":\"tonexty\",\"mode\":\"none\",\"name\":\"lower\",\"type\":\"scatter\",\"x\":[\"2020-01-05T00:00:00\",\"2020-01-12T00:00:00\",\"2020-01-19T00:00:00\",\"2020-01-26T00:00:00\",\"2020-02-02T00:00:00\",\"2020-02-09T00:00:00\",\"2020-02-16T00:00:00\",\"2020-02-23T00:00:00\",\"2020-03-01T00:00:00\",\"2020-03-08T00:00:00\",\"2020-03-15T00:00:00\",\"2020-03-22T00:00:00\",\"2020-03-29T00:00:00\",\"2020-04-05T00:00:00\",\"2020-04-12T00:00:00\",\"2020-04-19T00:00:00\",\"2020-04-26T00:00:00\",\"2020-05-03T00:00:00\",\"2020-05-10T00:00:00\",\"2020-05-17T00:00:00\",\"2020-05-24T00:00:00\",\"2020-05-31T00:00:00\",\"2020-06-07T00:00:00\",\"2020-06-14T00:00:00\",\"2020-06-21T00:00:00\",\"2020-06-28T00:00:00\",\"2020-07-05T00:00:00\",\"2020-07-12T00:00:00\"],\"y\":[494.62756620113817,565.444158950598,810.271552008438,1079.562097087843,1343.7632371447028,1590.8821469571067,1831.277386446252,2019.0996972009634,2364.3740367819455,2441.346502936821,2863.8343863015243,3121.512613842203,3376.872535964809,3637.7851549055626,3885.814336587723,4143.8645524630365,4412.680843242615,4655.451227526273,4904.755204387053,5176.41444116307,5426.624738788843,5679.13360821518,5927.633764708529,6202.35583435429,6452.491586784808,6702.691804979057,6966.546395059387,7213.3432766789]}],                        {\"template\":{\"data\":{\"bar\":[{\"error_x\":{\"color\":\"#2a3f5f\"},\"error_y\":{\"color\":\"#2a3f5f\"},\"marker\":{\"line\":{\"color\":\"#E5ECF6\",\"width\":0.5},\"pattern\":{\"fillmode\":\"overlay\",\"size\":10,\"solidity\":0.2}},\"type\":\"bar\"}],\"barpolar\":[{\"marker\":{\"line\":{\"color\":\"#E5ECF6\",\"width\":0.5},\"pattern\":{\"fillmode\":\"overlay\",\"size\":10,\"solidity\":0.2}},\"type\":\"barpolar\"}],\"carpet\":[{\"aaxis\":{\"endlinecolor\":\"#2a3f5f\",\"gridcolor\":\"white\",\"linecolor\":\"white\",\"minorgridcolor\":\"white\",\"startlinecolor\":\"#2a3f5f\"},\"baxis\":{\"endlinecolor\":\"#2a3f5f\",\"gridcolor\":\"white\",\"linecolor\":\"white\",\"minorgridcolor\":\"white\",\"startlinecolor\":\"#2a3f5f\"},\"type\":\"carpet\"}],\"choropleth\":[{\"colorbar\":{\"outlinewidth\":0,\"ticks\":\"\"},\"type\":\"choropleth\"}],\"contour\":[{\"colorbar\":{\"outlinewidth\":0,\"ticks\":\"\"},\"colorscale\":[[0.0,\"#0d0887\"],[0.1111111111111111,\"#46039f\"],[0.2222222222222222,\"#7201a8\"],[0.3333333333333333,\"#9c179e\"],[0.4444444444444444,\"#bd3786\"],[0.5555555555555556,\"#d8576b\"],[0.6666666666666666,\"#ed7953\"],[0.7777777777777778,\"#fb9f3a\"],[0.8888888888888888,\"#fdca26\"],[1.0,\"#f0f921\"]],\"type\":\"contour\"}],\"contourcarpet\":[{\"colorbar\":{\"outlinewidth\":0,\"ticks\":\"\"},\"type\":\"contourcarpet\"}],\"heatmap\":[{\"colorbar\":{\"outlinewidth\":0,\"ticks\":\"\"},\"colorscale\":[[0.0,\"#0d0887\"],[0.1111111111111111,\"#46039f\"],[0.2222222222222222,\"#7201a8\"],[0.3333333333333333,\"#9c179e\"],[0.4444444444444444,\"#bd3786\"],[0.5555555555555556,\"#d8576b\"],[0.6666666666666666,\"#ed7953\"],[0.7777777777777778,\"#fb9f3a\"],[0.8888888888888888,\"#fdca26\"],[1.0,\"#f0f921\"]],\"type\":\"heatmap\"}],\"heatmapgl\":[{\"colorbar\":{\"outlinewidth\":0,\"ticks\":\"\"},\"colorscale\":[[0.0,\"#0d0887\"],[0.1111111111111111,\"#46039f\"],[0.2222222222222222,\"#7201a8\"],[0.3333333333333333,\"#9c179e\"],[0.4444444444444444,\"#bd3786\"],[0.5555555555555556,\"#d8576b\"],[0.6666666666666666,\"#ed7953\"],[0.7777777777777778,\"#fb9f3a\"],[0.8888888888888888,\"#fdca26\"],[1.0,\"#f0f921\"]],\"type\":\"heatmapgl\"}],\"histogram\":[{\"marker\":{\"pattern\":{\"fillmode\":\"overlay\",\"size\":10,\"solidity\":0.2}},\"type\":\"histogram\"}],\"histogram2d\":[{\"colorbar\":{\"outlinewidth\":0,\"ticks\":\"\"},\"colorscale\":[[0.0,\"#0d0887\"],[0.1111111111111111,\"#46039f\"],[0.2222222222222222,\"#7201a8\"],[0.3333333333333333,\"#9c179e\"],[0.4444444444444444,\"#bd3786\"],[0.5555555555555556,\"#d8576b\"],[0.6666666666666666,\"#ed7953\"],[0.7777777777777778,\"#fb9f3a\"],[0.8888888888888888,\"#fdca26\"],[1.0,\"#f0f921\"]],\"type\":\"histogram2d\"}],\"histogram2dcontour\":[{\"colorbar\":{\"outlinewidth\":0,\"ticks\":\"\"},\"colorscale\":[[0.0,\"#0d0887\"],[0.1111111111111111,\"#46039f\"],[0.2222222222222222,\"#7201a8\"],[0.3333333333333333,\"#9c179e\"],[0.4444444444444444,\"#bd3786\"],[0.5555555555555556,\"#d8576b\"],[0.6666666666666666,\"#ed7953\"],[0.7777777777777778,\"#fb9f3a\"],[0.8888888888888888,\"#fdca26\"],[1.0,\"#f0f921\"]],\"type\":\"histogram2dcontour\"}],\"mesh3d\":[{\"colorbar\":{\"outlinewidth\":0,\"ticks\":\"\"},\"type\":\"mesh3d\"}],\"parcoords\":[{\"line\":{\"colorbar\":{\"outlinewidth\":0,\"ticks\":\"\"}},\"type\":\"parcoords\"}],\"pie\":[{\"automargin\":true,\"type\":\"pie\"}],\"scatter\":[{\"marker\":{\"colorbar\":{\"outlinewidth\":0,\"ticks\":\"\"}},\"type\":\"scatter\"}],\"scatter3d\":[{\"line\":{\"colorbar\":{\"outlinewidth\":0,\"ticks\":\"\"}},\"marker\":{\"colorbar\":{\"outlinewidth\":0,\"ticks\":\"\"}},\"type\":\"scatter3d\"}],\"scattercarpet\":[{\"marker\":{\"colorbar\":{\"outlinewidth\":0,\"ticks\":\"\"}},\"type\":\"scattercarpet\"}],\"scattergeo\":[{\"marker\":{\"colorbar\":{\"outlinewidth\":0,\"ticks\":\"\"}},\"type\":\"scattergeo\"}],\"scattergl\":[{\"marker\":{\"colorbar\":{\"outlinewidth\":0,\"ticks\":\"\"}},\"type\":\"scattergl\"}],\"scattermapbox\":[{\"marker\":{\"colorbar\":{\"outlinewidth\":0,\"ticks\":\"\"}},\"type\":\"scattermapbox\"}],\"scatterpolar\":[{\"marker\":{\"colorbar\":{\"outlinewidth\":0,\"ticks\":\"\"}},\"type\":\"scatterpolar\"}],\"scatterpolargl\":[{\"marker\":{\"colorbar\":{\"outlinewidth\":0,\"ticks\":\"\"}},\"type\":\"scatterpolargl\"}],\"scatterternary\":[{\"marker\":{\"colorbar\":{\"outlinewidth\":0,\"ticks\":\"\"}},\"type\":\"scatterternary\"}],\"surface\":[{\"colorbar\":{\"outlinewidth\":0,\"ticks\":\"\"},\"colorscale\":[[0.0,\"#0d0887\"],[0.1111111111111111,\"#46039f\"],[0.2222222222222222,\"#7201a8\"],[0.3333333333333333,\"#9c179e\"],[0.4444444444444444,\"#bd3786\"],[0.5555555555555556,\"#d8576b\"],[0.6666666666666666,\"#ed7953\"],[0.7777777777777778,\"#fb9f3a\"],[0.8888888888888888,\"#fdca26\"],[1.0,\"#f0f921\"]],\"type\":\"surface\"}],\"table\":[{\"cells\":{\"fill\":{\"color\":\"#EBF0F8\"},\"line\":{\"color\":\"white\"}},\"header\":{\"fill\":{\"color\":\"#C8D4E3\"},\"line\":{\"color\":\"white\"}},\"type\":\"table\"}]},\"layout\":{\"annotationdefaults\":{\"arrowcolor\":\"#2a3f5f\",\"arrowhead\":0,\"arrowwidth\":1},\"autotypenumbers\":\"strict\",\"coloraxis\":{\"colorbar\":{\"outlinewidth\":0,\"ticks\":\"\"}},\"colorscale\":{\"diverging\":[[0,\"#8e0152\"],[0.1,\"#c51b7d\"],[0.2,\"#de77ae\"],[0.3,\"#f1b6da\"],[0.4,\"#fde0ef\"],[0.5,\"#f7f7f7\"],[0.6,\"#e6f5d0\"],[0.7,\"#b8e186\"],[0.8,\"#7fbc41\"],[0.9,\"#4d9221\"],[1,\"#276419\"]],\"sequential\":[[0.0,\"#0d0887\"],[0.1111111111111111,\"#46039f\"],[0.2222222222222222,\"#7201a8\"],[0.3333333333333333,\"#9c179e\"],[0.4444444444444444,\"#bd3786\"],[0.5555555555555556,\"#d8576b\"],[0.6666666666666666,\"#ed7953\"],[0.7777777777777778,\"#fb9f3a\"],[0.8888888888888888,\"#fdca26\"],[1.0,\"#f0f921\"]],\"sequentialminus\":[[0.0,\"#0d0887\"],[0.1111111111111111,\"#46039f\"],[0.2222222222222222,\"#7201a8\"],[0.3333333333333333,\"#9c179e\"],[0.4444444444444444,\"#bd3786\"],[0.5555555555555556,\"#d8576b\"],[0.6666666666666666,\"#ed7953\"],[0.7777777777777778,\"#fb9f3a\"],[0.8888888888888888,\"#fdca26\"],[1.0,\"#f0f921\"]]},\"colorway\":[\"#636efa\",\"#EF553B\",\"#00cc96\",\"#ab63fa\",\"#FFA15A\",\"#19d3f3\",\"#FF6692\",\"#B6E880\",\"#FF97FF\",\"#FECB52\"],\"font\":{\"color\":\"#2a3f5f\"},\"geo\":{\"bgcolor\":\"white\",\"lakecolor\":\"white\",\"landcolor\":\"#E5ECF6\",\"showlakes\":true,\"showland\":true,\"subunitcolor\":\"white\"},\"hoverlabel\":{\"align\":\"left\"},\"hovermode\":\"closest\",\"mapbox\":{\"style\":\"light\"},\"paper_bgcolor\":\"white\",\"plot_bgcolor\":\"#E5ECF6\",\"polar\":{\"angularaxis\":{\"gridcolor\":\"white\",\"linecolor\":\"white\",\"ticks\":\"\"},\"bgcolor\":\"#E5ECF6\",\"radialaxis\":{\"gridcolor\":\"white\",\"linecolor\":\"white\",\"ticks\":\"\"}},\"scene\":{\"xaxis\":{\"backgroundcolor\":\"#E5ECF6\",\"gridcolor\":\"white\",\"gridwidth\":2,\"linecolor\":\"white\",\"showbackground\":true,\"ticks\":\"\",\"zerolinecolor\":\"white\"},\"yaxis\":{\"backgroundcolor\":\"#E5ECF6\",\"gridcolor\":\"white\",\"gridwidth\":2,\"linecolor\":\"white\",\"showbackground\":true,\"ticks\":\"\",\"zerolinecolor\":\"white\"},\"zaxis\":{\"backgroundcolor\":\"#E5ECF6\",\"gridcolor\":\"white\",\"gridwidth\":2,\"linecolor\":\"white\",\"showbackground\":true,\"ticks\":\"\",\"zerolinecolor\":\"white\"}},\"shapedefaults\":{\"line\":{\"color\":\"#2a3f5f\"}},\"ternary\":{\"aaxis\":{\"gridcolor\":\"white\",\"linecolor\":\"white\",\"ticks\":\"\"},\"baxis\":{\"gridcolor\":\"white\",\"linecolor\":\"white\",\"ticks\":\"\"},\"bgcolor\":\"#E5ECF6\",\"caxis\":{\"gridcolor\":\"white\",\"linecolor\":\"white\",\"ticks\":\"\"}},\"title\":{\"x\":0.05},\"xaxis\":{\"automargin\":true,\"gridcolor\":\"white\",\"linecolor\":\"white\",\"ticks\":\"\",\"title\":{\"standoff\":15},\"zerolinecolor\":\"white\",\"zerolinewidth\":2},\"yaxis\":{\"automargin\":true,\"gridcolor\":\"white\",\"linecolor\":\"white\",\"ticks\":\"\",\"title\":{\"standoff\":15},\"zerolinecolor\":\"white\",\"zerolinewidth\":2}}}},                        {\"responsive\": true}                    ).then(function(){\n",
       "                            \n",
       "var gd = document.getElementById('3c79bd2c-955b-4210-8110-071ec9b00f09');\n",
       "var x = new MutationObserver(function (mutations, observer) {{\n",
       "        var display = window.getComputedStyle(gd).display;\n",
       "        if (!display || display === 'none') {{\n",
       "            console.log([gd, 'removed!']);\n",
       "            Plotly.purge(gd);\n",
       "            observer.disconnect();\n",
       "        }}\n",
       "}});\n",
       "\n",
       "// Listen for the removal of the full notebook cells\n",
       "var notebookContainer = gd.closest('#notebook-container');\n",
       "if (notebookContainer) {{\n",
       "    x.observe(notebookContainer, {childList: true});\n",
       "}}\n",
       "\n",
       "// Listen for the clearing of the current output cell\n",
       "var outputEl = gd.closest('.output');\n",
       "if (outputEl) {{\n",
       "    x.observe(outputEl, {childList: true});\n",
       "}}\n",
       "\n",
       "                        })                };                });            </script>        </div>"
      ]
     },
     "metadata": {},
     "output_type": "display_data"
    }
   ],
   "source": [
    "from plotly.offline import download_plotlyjs, init_notebook_mode, plot, iplot\n",
    "import plotly.graph_objs as go\n",
    "init_notebook_mode(connected = True)\n",
    "\n",
    "iplot([\n",
    "    go.Scatter(x=df['ds'], y=df['y'], name='fact'),\n",
    "    go.Scatter(x=forecast['ds'], y=forecast['yhat'], name='prediction'),\n",
    "    go.Scatter(x=forecast['ds'], y=forecast['yhat_upper'], fill='tonexty', mode='none', name='upper'),\n",
    "    go.Scatter(x=forecast['ds'], y=forecast['yhat_lower'], fill='tonexty', mode='none', name='lower')\n",
    "])"
   ]
  },
  {
   "cell_type": "code",
   "execution_count": 48,
   "id": "0e1e7d34",
   "metadata": {},
   "outputs": [
    {
     "name": "stdout",
     "output_type": "stream",
     "text": [
      "MAPE (средняя абсолютная ошибка в процентах) – 4.5 %\n",
      "MAE (средняя абсолютная ошибка) – 87.32\n"
     ]
    }
   ],
   "source": [
    "# Ошибки модели\n",
    "cmp_df = forecast.set_index('ds')[['yhat', 'yhat_lower', 'yhat_upper']].join(df.set_index('ds'))\n",
    "cmp_df = cmp_df.iloc[:14]\n",
    "cmp_df['e'] = cmp_df['y'] - cmp_df['yhat']\n",
    "cmp_df['p'] = 100*cmp_df['e']/cmp_df['y']\n",
    "mape = round(np.mean(abs(cmp_df['p'])), 2)\n",
    "mae = round(np.mean(abs(cmp_df['e'])), 2)\n",
    "print('MAPE (средняя абсолютная ошибка в процентах) –', mape,'%')\n",
    "print('MAE (средняя абсолютная ошибка) –', mae)"
   ]
  },
  {
   "cell_type": "code",
   "execution_count": 49,
   "id": "9b1ade05",
   "metadata": {},
   "outputs": [],
   "source": [
    "# сохраним ошибки модели для сравнения с линейной моделью\n",
    "d = {'model': 'prophet model',\n",
    "    'MAPE, %': mape,\n",
    "    'MAE': mae}\n",
    "df_comparison = df_comparison.append(pd.DataFrame(d, index=[1]))"
   ]
  },
  {
   "cell_type": "code",
   "execution_count": 50,
   "id": "bae4d444",
   "metadata": {},
   "outputs": [
    {
     "data": {
      "text/html": [
       "<div>\n",
       "<style scoped>\n",
       "    .dataframe tbody tr th:only-of-type {\n",
       "        vertical-align: middle;\n",
       "    }\n",
       "\n",
       "    .dataframe tbody tr th {\n",
       "        vertical-align: top;\n",
       "    }\n",
       "\n",
       "    .dataframe thead th {\n",
       "        text-align: right;\n",
       "    }\n",
       "</style>\n",
       "<table border=\"1\" class=\"dataframe\">\n",
       "  <thead>\n",
       "    <tr style=\"text-align: right;\">\n",
       "      <th></th>\n",
       "      <th>ds</th>\n",
       "      <th>yhat</th>\n",
       "      <th>yhat_lower</th>\n",
       "      <th>yhat_upper</th>\n",
       "    </tr>\n",
       "  </thead>\n",
       "  <tbody>\n",
       "    <tr>\n",
       "      <th>0</th>\n",
       "      <td>2020-04-12</td>\n",
       "      <td>4044.049961</td>\n",
       "      <td>3885.814337</td>\n",
       "      <td>4211.261028</td>\n",
       "    </tr>\n",
       "    <tr>\n",
       "      <th>1</th>\n",
       "      <td>2020-04-19</td>\n",
       "      <td>4300.008319</td>\n",
       "      <td>4143.864552</td>\n",
       "      <td>4459.666640</td>\n",
       "    </tr>\n",
       "    <tr>\n",
       "      <th>2</th>\n",
       "      <td>2020-04-26</td>\n",
       "      <td>4555.966676</td>\n",
       "      <td>4412.680843</td>\n",
       "      <td>4702.088359</td>\n",
       "    </tr>\n",
       "    <tr>\n",
       "      <th>3</th>\n",
       "      <td>2020-05-03</td>\n",
       "      <td>4811.925034</td>\n",
       "      <td>4655.451228</td>\n",
       "      <td>4957.439726</td>\n",
       "    </tr>\n",
       "    <tr>\n",
       "      <th>4</th>\n",
       "      <td>2020-05-10</td>\n",
       "      <td>5067.883391</td>\n",
       "      <td>4904.755204</td>\n",
       "      <td>5214.411071</td>\n",
       "    </tr>\n",
       "    <tr>\n",
       "      <th>5</th>\n",
       "      <td>2020-05-17</td>\n",
       "      <td>5323.841749</td>\n",
       "      <td>5176.414441</td>\n",
       "      <td>5489.160007</td>\n",
       "    </tr>\n",
       "    <tr>\n",
       "      <th>6</th>\n",
       "      <td>2020-05-24</td>\n",
       "      <td>5579.800106</td>\n",
       "      <td>5426.624739</td>\n",
       "      <td>5732.292866</td>\n",
       "    </tr>\n",
       "    <tr>\n",
       "      <th>7</th>\n",
       "      <td>2020-05-31</td>\n",
       "      <td>5835.758464</td>\n",
       "      <td>5679.133608</td>\n",
       "      <td>5977.545222</td>\n",
       "    </tr>\n",
       "    <tr>\n",
       "      <th>8</th>\n",
       "      <td>2020-06-07</td>\n",
       "      <td>6091.716821</td>\n",
       "      <td>5927.633765</td>\n",
       "      <td>6235.206420</td>\n",
       "    </tr>\n",
       "    <tr>\n",
       "      <th>9</th>\n",
       "      <td>2020-06-14</td>\n",
       "      <td>6347.675179</td>\n",
       "      <td>6202.355834</td>\n",
       "      <td>6493.926366</td>\n",
       "    </tr>\n",
       "    <tr>\n",
       "      <th>10</th>\n",
       "      <td>2020-06-21</td>\n",
       "      <td>6603.633536</td>\n",
       "      <td>6452.491587</td>\n",
       "      <td>6758.786039</td>\n",
       "    </tr>\n",
       "    <tr>\n",
       "      <th>11</th>\n",
       "      <td>2020-06-28</td>\n",
       "      <td>6859.591894</td>\n",
       "      <td>6702.691805</td>\n",
       "      <td>7013.913236</td>\n",
       "    </tr>\n",
       "    <tr>\n",
       "      <th>12</th>\n",
       "      <td>2020-07-05</td>\n",
       "      <td>7115.550251</td>\n",
       "      <td>6966.546395</td>\n",
       "      <td>7263.265331</td>\n",
       "    </tr>\n",
       "    <tr>\n",
       "      <th>13</th>\n",
       "      <td>2020-07-12</td>\n",
       "      <td>7371.508609</td>\n",
       "      <td>7213.343277</td>\n",
       "      <td>7516.728769</td>\n",
       "    </tr>\n",
       "  </tbody>\n",
       "</table>\n",
       "</div>"
      ],
      "text/plain": [
       "           ds         yhat   yhat_lower   yhat_upper\n",
       "0  2020-04-12  4044.049961  3885.814337  4211.261028\n",
       "1  2020-04-19  4300.008319  4143.864552  4459.666640\n",
       "2  2020-04-26  4555.966676  4412.680843  4702.088359\n",
       "3  2020-05-03  4811.925034  4655.451228  4957.439726\n",
       "4  2020-05-10  5067.883391  4904.755204  5214.411071\n",
       "5  2020-05-17  5323.841749  5176.414441  5489.160007\n",
       "6  2020-05-24  5579.800106  5426.624739  5732.292866\n",
       "7  2020-05-31  5835.758464  5679.133608  5977.545222\n",
       "8  2020-06-07  6091.716821  5927.633765  6235.206420\n",
       "9  2020-06-14  6347.675179  6202.355834  6493.926366\n",
       "10 2020-06-21  6603.633536  6452.491587  6758.786039\n",
       "11 2020-06-28  6859.591894  6702.691805  7013.913236\n",
       "12 2020-07-05  7115.550251  6966.546395  7263.265331\n",
       "13 2020-07-12  7371.508609  7213.343277  7516.728769"
      ]
     },
     "execution_count": 50,
     "metadata": {},
     "output_type": "execute_result"
    }
   ],
   "source": [
    "df_prophet_prediction = forecast[['ds', 'yhat', 'yhat_lower', 'yhat_upper']].reset_index(drop=True)\n",
    "df_prophet_prediction = df_prophet_prediction.iloc[14:].reset_index(drop=True)\n",
    "df_prophet_prediction"
   ]
  },
  {
   "cell_type": "markdown",
   "id": "8914b199",
   "metadata": {},
   "source": [
    "Составим таблицу итогового прогноза с доверительными интервалами и сохраним в Excel для отчётности."
   ]
  },
  {
   "cell_type": "code",
   "execution_count": 51,
   "id": "cb62dc3f",
   "metadata": {},
   "outputs": [
    {
     "data": {
      "text/html": [
       "<div>\n",
       "<style scoped>\n",
       "    .dataframe tbody tr th:only-of-type {\n",
       "        vertical-align: middle;\n",
       "    }\n",
       "\n",
       "    .dataframe tbody tr th {\n",
       "        vertical-align: top;\n",
       "    }\n",
       "\n",
       "    .dataframe thead th {\n",
       "        text-align: right;\n",
       "    }\n",
       "</style>\n",
       "<table border=\"1\" class=\"dataframe\">\n",
       "  <thead>\n",
       "    <tr style=\"text-align: right;\">\n",
       "      <th></th>\n",
       "      <th>Дата</th>\n",
       "      <th>Прогноз. число заказов</th>\n",
       "      <th>Мин. прогноз. число заказов</th>\n",
       "      <th>Макс. прогноз. число заказов</th>\n",
       "    </tr>\n",
       "  </thead>\n",
       "  <tbody>\n",
       "    <tr>\n",
       "      <th>0</th>\n",
       "      <td>2020-04-12</td>\n",
       "      <td>4044</td>\n",
       "      <td>3886</td>\n",
       "      <td>4211</td>\n",
       "    </tr>\n",
       "    <tr>\n",
       "      <th>1</th>\n",
       "      <td>2020-04-19</td>\n",
       "      <td>4300</td>\n",
       "      <td>4144</td>\n",
       "      <td>4460</td>\n",
       "    </tr>\n",
       "    <tr>\n",
       "      <th>2</th>\n",
       "      <td>2020-04-26</td>\n",
       "      <td>4556</td>\n",
       "      <td>4413</td>\n",
       "      <td>4702</td>\n",
       "    </tr>\n",
       "    <tr>\n",
       "      <th>3</th>\n",
       "      <td>2020-05-03</td>\n",
       "      <td>4812</td>\n",
       "      <td>4655</td>\n",
       "      <td>4957</td>\n",
       "    </tr>\n",
       "    <tr>\n",
       "      <th>4</th>\n",
       "      <td>2020-05-10</td>\n",
       "      <td>5068</td>\n",
       "      <td>4905</td>\n",
       "      <td>5214</td>\n",
       "    </tr>\n",
       "    <tr>\n",
       "      <th>5</th>\n",
       "      <td>2020-05-17</td>\n",
       "      <td>5324</td>\n",
       "      <td>5176</td>\n",
       "      <td>5489</td>\n",
       "    </tr>\n",
       "    <tr>\n",
       "      <th>6</th>\n",
       "      <td>2020-05-24</td>\n",
       "      <td>5580</td>\n",
       "      <td>5427</td>\n",
       "      <td>5732</td>\n",
       "    </tr>\n",
       "    <tr>\n",
       "      <th>7</th>\n",
       "      <td>2020-05-31</td>\n",
       "      <td>5836</td>\n",
       "      <td>5679</td>\n",
       "      <td>5978</td>\n",
       "    </tr>\n",
       "    <tr>\n",
       "      <th>8</th>\n",
       "      <td>2020-06-07</td>\n",
       "      <td>6092</td>\n",
       "      <td>5928</td>\n",
       "      <td>6235</td>\n",
       "    </tr>\n",
       "    <tr>\n",
       "      <th>9</th>\n",
       "      <td>2020-06-14</td>\n",
       "      <td>6348</td>\n",
       "      <td>6202</td>\n",
       "      <td>6494</td>\n",
       "    </tr>\n",
       "    <tr>\n",
       "      <th>10</th>\n",
       "      <td>2020-06-21</td>\n",
       "      <td>6604</td>\n",
       "      <td>6452</td>\n",
       "      <td>6759</td>\n",
       "    </tr>\n",
       "    <tr>\n",
       "      <th>11</th>\n",
       "      <td>2020-06-28</td>\n",
       "      <td>6860</td>\n",
       "      <td>6703</td>\n",
       "      <td>7014</td>\n",
       "    </tr>\n",
       "    <tr>\n",
       "      <th>12</th>\n",
       "      <td>2020-07-05</td>\n",
       "      <td>7116</td>\n",
       "      <td>6967</td>\n",
       "      <td>7263</td>\n",
       "    </tr>\n",
       "    <tr>\n",
       "      <th>13</th>\n",
       "      <td>2020-07-12</td>\n",
       "      <td>7372</td>\n",
       "      <td>7213</td>\n",
       "      <td>7517</td>\n",
       "    </tr>\n",
       "  </tbody>\n",
       "</table>\n",
       "</div>"
      ],
      "text/plain": [
       "         Дата  Прогноз. число заказов  Мин. прогноз. число заказов  \\\n",
       "0  2020-04-12                    4044                         3886   \n",
       "1  2020-04-19                    4300                         4144   \n",
       "2  2020-04-26                    4556                         4413   \n",
       "3  2020-05-03                    4812                         4655   \n",
       "4  2020-05-10                    5068                         4905   \n",
       "5  2020-05-17                    5324                         5176   \n",
       "6  2020-05-24                    5580                         5427   \n",
       "7  2020-05-31                    5836                         5679   \n",
       "8  2020-06-07                    6092                         5928   \n",
       "9  2020-06-14                    6348                         6202   \n",
       "10 2020-06-21                    6604                         6452   \n",
       "11 2020-06-28                    6860                         6703   \n",
       "12 2020-07-05                    7116                         6967   \n",
       "13 2020-07-12                    7372                         7213   \n",
       "\n",
       "    Макс. прогноз. число заказов  \n",
       "0                           4211  \n",
       "1                           4460  \n",
       "2                           4702  \n",
       "3                           4957  \n",
       "4                           5214  \n",
       "5                           5489  \n",
       "6                           5732  \n",
       "7                           5978  \n",
       "8                           6235  \n",
       "9                           6494  \n",
       "10                          6759  \n",
       "11                          7014  \n",
       "12                          7263  \n",
       "13                          7517  "
      ]
     },
     "execution_count": 51,
     "metadata": {},
     "output_type": "execute_result"
    }
   ],
   "source": [
    "df_prophet_prediction.yhat = df_prophet_prediction.yhat.round().astype(int)\n",
    "df_prophet_prediction.yhat_lower = df_prophet_prediction.yhat_lower.round().astype(int)\n",
    "df_prophet_prediction.yhat_upper = df_prophet_prediction.yhat_upper.round().astype(int)\n",
    "df_prophet_prediction.rename(columns={'ds': 'Дата', 'yhat': 'Прогноз. число заказов',\n",
    "                                     'yhat_lower': 'Мин. прогноз. число заказов', \n",
    "                                     'yhat_upper': 'Макс. прогноз. число заказов'}, inplace=True)\n",
    "df_prophet_prediction"
   ]
  },
  {
   "cell_type": "code",
   "execution_count": 52,
   "id": "95b6d494",
   "metadata": {},
   "outputs": [],
   "source": [
    "df_prophet_prediction.to_excel('prophet_prediction_report.xlsx', index=False)"
   ]
  },
  {
   "cell_type": "markdown",
   "id": "6f392cb9",
   "metadata": {},
   "source": [
    "## Сравнение моделей"
   ]
  },
  {
   "cell_type": "markdown",
   "id": "d26f0de2",
   "metadata": {},
   "source": [
    "Данные линейной модели:"
   ]
  },
  {
   "cell_type": "code",
   "execution_count": 53,
   "id": "58c513c2",
   "metadata": {},
   "outputs": [],
   "source": [
    "df_linear = (\n",
    "                df_final\n",
    "                .query('value_status == \"predicted\"')[['date', 'orders_number', 'min_conf_int', 'max_conf_int']]\n",
    "                .reset_index(drop=True)\n",
    "            )"
   ]
  },
  {
   "cell_type": "markdown",
   "id": "8e2f7ecf",
   "metadata": {},
   "source": [
    "Данные Prophet модели:"
   ]
  },
  {
   "cell_type": "code",
   "execution_count": 54,
   "id": "e29184bb",
   "metadata": {},
   "outputs": [],
   "source": [
    "df_prophet = (\n",
    "                forecast[['ds', 'yhat', 'yhat_lower', 'yhat_upper']]\n",
    "                .iloc[14:]\n",
    "                .reset_index(drop=True)\n",
    "             )"
   ]
  },
  {
   "cell_type": "markdown",
   "id": "852045f5",
   "metadata": {},
   "source": [
    "Объединяем данные моделей в один датафрейм"
   ]
  },
  {
   "cell_type": "code",
   "execution_count": 55,
   "id": "5fb9983a",
   "metadata": {},
   "outputs": [
    {
     "data": {
      "text/html": [
       "<div>\n",
       "<style scoped>\n",
       "    .dataframe tbody tr th:only-of-type {\n",
       "        vertical-align: middle;\n",
       "    }\n",
       "\n",
       "    .dataframe tbody tr th {\n",
       "        vertical-align: top;\n",
       "    }\n",
       "\n",
       "    .dataframe thead th {\n",
       "        text-align: right;\n",
       "    }\n",
       "</style>\n",
       "<table border=\"1\" class=\"dataframe\">\n",
       "  <thead>\n",
       "    <tr style=\"text-align: right;\">\n",
       "      <th></th>\n",
       "      <th>date</th>\n",
       "      <th>lm_prediction</th>\n",
       "      <th>lm_lower</th>\n",
       "      <th>lm_upper</th>\n",
       "      <th>prophet_prediction</th>\n",
       "      <th>prophet_lower</th>\n",
       "      <th>prophet_upper</th>\n",
       "      <th>models_diff</th>\n",
       "    </tr>\n",
       "  </thead>\n",
       "  <tbody>\n",
       "    <tr>\n",
       "      <th>0</th>\n",
       "      <td>2020-04-12</td>\n",
       "      <td>3984.934066</td>\n",
       "      <td>3524.817185</td>\n",
       "      <td>4445.050947</td>\n",
       "      <td>4044.049961</td>\n",
       "      <td>3885.814337</td>\n",
       "      <td>4211.261028</td>\n",
       "      <td>59.115895</td>\n",
       "    </tr>\n",
       "    <tr>\n",
       "      <th>1</th>\n",
       "      <td>2020-04-19</td>\n",
       "      <td>4233.525275</td>\n",
       "      <td>3752.154438</td>\n",
       "      <td>4714.896112</td>\n",
       "      <td>4300.008319</td>\n",
       "      <td>4143.864552</td>\n",
       "      <td>4459.666640</td>\n",
       "      <td>66.483044</td>\n",
       "    </tr>\n",
       "    <tr>\n",
       "      <th>2</th>\n",
       "      <td>2020-04-26</td>\n",
       "      <td>4482.116484</td>\n",
       "      <td>3979.491691</td>\n",
       "      <td>4984.741276</td>\n",
       "      <td>4555.966676</td>\n",
       "      <td>4412.680843</td>\n",
       "      <td>4702.088359</td>\n",
       "      <td>73.850193</td>\n",
       "    </tr>\n",
       "    <tr>\n",
       "      <th>3</th>\n",
       "      <td>2020-05-03</td>\n",
       "      <td>4730.707692</td>\n",
       "      <td>4206.828944</td>\n",
       "      <td>5254.586440</td>\n",
       "      <td>4811.925034</td>\n",
       "      <td>4655.451228</td>\n",
       "      <td>4957.439726</td>\n",
       "      <td>81.217341</td>\n",
       "    </tr>\n",
       "    <tr>\n",
       "      <th>4</th>\n",
       "      <td>2020-05-10</td>\n",
       "      <td>4979.298901</td>\n",
       "      <td>4434.166197</td>\n",
       "      <td>5524.431605</td>\n",
       "      <td>5067.883391</td>\n",
       "      <td>4904.755204</td>\n",
       "      <td>5214.411071</td>\n",
       "      <td>88.584490</td>\n",
       "    </tr>\n",
       "    <tr>\n",
       "      <th>5</th>\n",
       "      <td>2020-05-17</td>\n",
       "      <td>5227.890110</td>\n",
       "      <td>4661.503450</td>\n",
       "      <td>5794.276769</td>\n",
       "      <td>5323.841749</td>\n",
       "      <td>5176.414441</td>\n",
       "      <td>5489.160007</td>\n",
       "      <td>95.951639</td>\n",
       "    </tr>\n",
       "    <tr>\n",
       "      <th>6</th>\n",
       "      <td>2020-05-24</td>\n",
       "      <td>5476.481319</td>\n",
       "      <td>4888.840704</td>\n",
       "      <td>6064.121934</td>\n",
       "      <td>5579.800106</td>\n",
       "      <td>5426.624739</td>\n",
       "      <td>5732.292866</td>\n",
       "      <td>103.318787</td>\n",
       "    </tr>\n",
       "    <tr>\n",
       "      <th>7</th>\n",
       "      <td>2020-05-31</td>\n",
       "      <td>5725.072527</td>\n",
       "      <td>5116.177957</td>\n",
       "      <td>6333.967098</td>\n",
       "      <td>5835.758464</td>\n",
       "      <td>5679.133608</td>\n",
       "      <td>5977.545222</td>\n",
       "      <td>110.685936</td>\n",
       "    </tr>\n",
       "    <tr>\n",
       "      <th>8</th>\n",
       "      <td>2020-06-07</td>\n",
       "      <td>5973.663736</td>\n",
       "      <td>5343.515210</td>\n",
       "      <td>6603.812263</td>\n",
       "      <td>6091.716821</td>\n",
       "      <td>5927.633765</td>\n",
       "      <td>6235.206420</td>\n",
       "      <td>118.053085</td>\n",
       "    </tr>\n",
       "    <tr>\n",
       "      <th>9</th>\n",
       "      <td>2020-06-14</td>\n",
       "      <td>6222.254945</td>\n",
       "      <td>5570.852463</td>\n",
       "      <td>6873.657427</td>\n",
       "      <td>6347.675179</td>\n",
       "      <td>6202.355834</td>\n",
       "      <td>6493.926366</td>\n",
       "      <td>125.420234</td>\n",
       "    </tr>\n",
       "    <tr>\n",
       "      <th>10</th>\n",
       "      <td>2020-06-21</td>\n",
       "      <td>6470.846154</td>\n",
       "      <td>5798.189716</td>\n",
       "      <td>7143.502592</td>\n",
       "      <td>6603.633536</td>\n",
       "      <td>6452.491587</td>\n",
       "      <td>6758.786039</td>\n",
       "      <td>132.787382</td>\n",
       "    </tr>\n",
       "    <tr>\n",
       "      <th>11</th>\n",
       "      <td>2020-06-28</td>\n",
       "      <td>6719.437363</td>\n",
       "      <td>6025.526969</td>\n",
       "      <td>7413.347756</td>\n",
       "      <td>6859.591894</td>\n",
       "      <td>6702.691805</td>\n",
       "      <td>7013.913236</td>\n",
       "      <td>140.154531</td>\n",
       "    </tr>\n",
       "    <tr>\n",
       "      <th>12</th>\n",
       "      <td>2020-07-05</td>\n",
       "      <td>6968.028571</td>\n",
       "      <td>6252.864222</td>\n",
       "      <td>7683.192920</td>\n",
       "      <td>7115.550251</td>\n",
       "      <td>6966.546395</td>\n",
       "      <td>7263.265331</td>\n",
       "      <td>147.521680</td>\n",
       "    </tr>\n",
       "    <tr>\n",
       "      <th>13</th>\n",
       "      <td>2020-07-12</td>\n",
       "      <td>7216.619780</td>\n",
       "      <td>6480.201476</td>\n",
       "      <td>7953.038085</td>\n",
       "      <td>7371.508609</td>\n",
       "      <td>7213.343277</td>\n",
       "      <td>7516.728769</td>\n",
       "      <td>154.888828</td>\n",
       "    </tr>\n",
       "  </tbody>\n",
       "</table>\n",
       "</div>"
      ],
      "text/plain": [
       "         date  lm_prediction     lm_lower     lm_upper  prophet_prediction  \\\n",
       "0  2020-04-12    3984.934066  3524.817185  4445.050947         4044.049961   \n",
       "1  2020-04-19    4233.525275  3752.154438  4714.896112         4300.008319   \n",
       "2  2020-04-26    4482.116484  3979.491691  4984.741276         4555.966676   \n",
       "3  2020-05-03    4730.707692  4206.828944  5254.586440         4811.925034   \n",
       "4  2020-05-10    4979.298901  4434.166197  5524.431605         5067.883391   \n",
       "5  2020-05-17    5227.890110  4661.503450  5794.276769         5323.841749   \n",
       "6  2020-05-24    5476.481319  4888.840704  6064.121934         5579.800106   \n",
       "7  2020-05-31    5725.072527  5116.177957  6333.967098         5835.758464   \n",
       "8  2020-06-07    5973.663736  5343.515210  6603.812263         6091.716821   \n",
       "9  2020-06-14    6222.254945  5570.852463  6873.657427         6347.675179   \n",
       "10 2020-06-21    6470.846154  5798.189716  7143.502592         6603.633536   \n",
       "11 2020-06-28    6719.437363  6025.526969  7413.347756         6859.591894   \n",
       "12 2020-07-05    6968.028571  6252.864222  7683.192920         7115.550251   \n",
       "13 2020-07-12    7216.619780  6480.201476  7953.038085         7371.508609   \n",
       "\n",
       "    prophet_lower  prophet_upper  models_diff  \n",
       "0     3885.814337    4211.261028    59.115895  \n",
       "1     4143.864552    4459.666640    66.483044  \n",
       "2     4412.680843    4702.088359    73.850193  \n",
       "3     4655.451228    4957.439726    81.217341  \n",
       "4     4904.755204    5214.411071    88.584490  \n",
       "5     5176.414441    5489.160007    95.951639  \n",
       "6     5426.624739    5732.292866   103.318787  \n",
       "7     5679.133608    5977.545222   110.685936  \n",
       "8     5927.633765    6235.206420   118.053085  \n",
       "9     6202.355834    6493.926366   125.420234  \n",
       "10    6452.491587    6758.786039   132.787382  \n",
       "11    6702.691805    7013.913236   140.154531  \n",
       "12    6966.546395    7263.265331   147.521680  \n",
       "13    7213.343277    7516.728769   154.888828  "
      ]
     },
     "execution_count": 55,
     "metadata": {},
     "output_type": "execute_result"
    }
   ],
   "source": [
    "df_prophet.rename(columns={'ds':'date'}, inplace=True)\n",
    "df = pd.merge(df_linear, df_prophet, on='date')\n",
    "df['models_diff'] = df.yhat - df.orders_number\n",
    "df.rename(columns={'orders_number':'lm_prediction', 'min_conf_int': 'lm_lower', 'max_conf_int': 'lm_upper',\n",
    "                   'yhat':'prophet_prediction', 'yhat_lower': 'prophet_lower', 'yhat_upper': 'prophet_upper'}, inplace=True)\n",
    "df"
   ]
  },
  {
   "cell_type": "markdown",
   "id": "cad66e21",
   "metadata": {},
   "source": [
    "Строим сравнительные графики прогнозов с доверительными интервалами моделей"
   ]
  },
  {
   "cell_type": "code",
   "execution_count": 56,
   "id": "44205d84",
   "metadata": {},
   "outputs": [
    {
     "data": {
      "image/png": "[encoded data removed]",
      "text/plain": [
       "<Figure size 864x432 with 1 Axes>"
      ]
     },
     "metadata": {},
     "output_type": "display_data"
    }
   ],
   "source": [
    "ax = sns.lineplot(x='date', y='prophet_prediction', data=df, label='Prophet prediction', color='#228B22')\n",
    "plt.plot(df.date, df.prophet_prediction, 'ro', c='#228B22')\n",
    "sns.lineplot(x='date', y='prophet_lower', data=df, label='Prophet lower', color='#00FF00')\n",
    "sns.lineplot(x='date', y='prophet_upper', data=df, label='Prophet upper', color='#00FF00')\n",
    "\n",
    "sns.lineplot(x='date', y='lm_prediction', data=df, label='Linear model prediction', color='#D36E70')\n",
    "plt.plot(df.date, df.lm_prediction, 'ro', c='#D36E70')\n",
    "\n",
    "ax.set_xlabel('Дата')\n",
    "ax.set_ylabel('Число заказов')\n",
    "plt.legend();"
   ]
  },
  {
   "cell_type": "code",
   "execution_count": 57,
   "id": "1596b2a6",
   "metadata": {},
   "outputs": [
    {
     "data": {
      "image/png": "[encoded data removed]",
      "text/plain": [
       "<Figure size 864x432 with 1 Axes>"
      ]
     },
     "metadata": {},
     "output_type": "display_data"
    }
   ],
   "source": [
    "ax = sns.lineplot(x='date', y='prophet_prediction', data=df, label='Prophet prediction', color='#228B22')\n",
    "plt.plot(df.date, df.prophet_prediction, 'ro', c='#228B22')\n",
    "\n",
    "sns.lineplot(x='date', y='lm_prediction', data=df, label='Linear model prediction', color='#D36E70')\n",
    "plt.plot(df.date, df.lm_prediction, 'ro', c='#D36E70')\n",
    "sns.lineplot(x='date', y='lm_lower', data=df, label='Linear model lower', color='#FCB4D5')\n",
    "sns.lineplot(x='date', y='lm_upper', data=df, label='Linear model upper', color='#FCB4D5')\n",
    "\n",
    "ax.set_xlabel('Дата')\n",
    "ax.set_ylabel('Число заказов')\n",
    "plt.legend();"
   ]
  },
  {
   "cell_type": "code",
   "execution_count": 58,
   "id": "d9aa0c2b",
   "metadata": {},
   "outputs": [
    {
     "data": {
      "text/html": [
       "<div>\n",
       "<style scoped>\n",
       "    .dataframe tbody tr th:only-of-type {\n",
       "        vertical-align: middle;\n",
       "    }\n",
       "\n",
       "    .dataframe tbody tr th {\n",
       "        vertical-align: top;\n",
       "    }\n",
       "\n",
       "    .dataframe thead th {\n",
       "        text-align: right;\n",
       "    }\n",
       "</style>\n",
       "<table border=\"1\" class=\"dataframe\">\n",
       "  <thead>\n",
       "    <tr style=\"text-align: right;\">\n",
       "      <th></th>\n",
       "      <th>model</th>\n",
       "      <th>MAPE, %</th>\n",
       "      <th>MAE</th>\n",
       "    </tr>\n",
       "  </thead>\n",
       "  <tbody>\n",
       "    <tr>\n",
       "      <th>0</th>\n",
       "      <td>linear model</td>\n",
       "      <td>6.52</td>\n",
       "      <td>116.63</td>\n",
       "    </tr>\n",
       "    <tr>\n",
       "      <th>1</th>\n",
       "      <td>prophet model</td>\n",
       "      <td>4.50</td>\n",
       "      <td>87.32</td>\n",
       "    </tr>\n",
       "  </tbody>\n",
       "</table>\n",
       "</div>"
      ],
      "text/plain": [
       "           model  MAPE, %     MAE\n",
       "0   linear model     6.52  116.63\n",
       "1  prophet model     4.50   87.32"
      ]
     },
     "execution_count": 58,
     "metadata": {},
     "output_type": "execute_result"
    }
   ],
   "source": [
    "df_comparison"
   ]
  },
  {
   "cell_type": "markdown",
   "id": "8095827f",
   "metadata": {},
   "source": [
    "**Вывод по выбору модели:**  \n",
    "Обе модели похожи, имеют линейный характер и хорошо описывают данные. Модель от Prophet немного более оптимистична и прогнозирует большие значения продаж, чем линейная модель, и обе входят в доверительные интервалы друг друга на заданном промежутке прогнозирования (далее линейная модель начинаяет выходить за узкие доверительные интервалы Prophet модели).  \n",
    "Линейная модель уступает модели Prophet по показателям MAPE (средняя абсолютная ошибка в процентах) и MAE (средняя абсолютная ошибка), но стоит учитывать, что чем меньше данных (в данном случае дано всего 14 точек), тем больше доверия должно быть более простой модели. Модель Prophet с учётом сезонности, праздников, переломных точек тренда является далеко не простой моделью, а значит верить её предсказаниям не стоит, и **следует отдать предпочтение более простой линейной модели**."
   ]
  },
  {
   "cell_type": "code",
   "execution_count": null,
   "id": "3b9662d0",
   "metadata": {},
   "outputs": [],
   "source": []
  }
 ],
 "metadata": {
  "kernelspec": {
   "display_name": "Python 3",
   "language": "python",
   "name": "python3"
  },
  "language_info": {
   "codemirror_mode": {
    "name": "ipython",
    "version": 3
   },
   "file_extension": ".py",
   "mimetype": "text/x-python",
   "name": "python",
   "nbconvert_exporter": "python",
   "pygments_lexer": "ipython3",
   "version": "3.8.8"
  }
 },
 "nbformat": 4,
 "nbformat_minor": 5
}
